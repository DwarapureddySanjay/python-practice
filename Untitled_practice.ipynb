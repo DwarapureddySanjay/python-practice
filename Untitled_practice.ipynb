{
  "nbformat": 4,
  "nbformat_minor": 0,
  "metadata": {
    "colab": {
      "name": "Untitled practice.ipynb",
      "provenance": [],
      "authorship_tag": "ABX9TyOKlvMNv0S/Irt70U2KASO2",
      "include_colab_link": true
    },
    "kernelspec": {
      "name": "python3",
      "display_name": "Python 3"
    },
    "language_info": {
      "name": "python"
    }
  },
  "cells": [
    {
      "cell_type": "markdown",
      "metadata": {
        "id": "view-in-github",
        "colab_type": "text"
      },
      "source": [
        "<a href=\"https://colab.research.google.com/github/DwarapureddySanjay/python-practice/blob/main/Untitled_practice.ipynb\" target=\"_parent\"><img src=\"https://colab.research.google.com/assets/colab-badge.svg\" alt=\"Open In Colab\"/></a>"
      ]
    },
    {
      "cell_type": "code",
      "execution_count": 14,
      "metadata": {
        "id": "IE457j337-0x",
        "colab": {
          "base_uri": "https://localhost:8080/"
        },
        "outputId": "5a67721d-d785-4a3d-bc62-ac1510ca2e2b"
      },
      "outputs": [
        {
          "output_type": "stream",
          "name": "stdout",
          "text": [
            "zpple znd bznznz\n",
            "['ramesh', 'suresh']\n"
          ]
        }
      ],
      "source": [
        "fruits= 'apple and banana'\n",
        "print(fruits.replace('a','z'))\n",
        "names= 'ramesh suresh'\n",
        "print(names.split(' '))"
      ]
    },
    {
      "cell_type": "markdown",
      "source": [
        "MY DETAILS"
      ],
      "metadata": {
        "id": "pGdfXhy1qADP"
      }
    },
    {
      "cell_type": "code",
      "source": [
        "Name='D.Sanjay'\n",
        "College_name='GITAM'\n",
        "Branch='cse(ai and ml)'\n",
        "age=19\n",
        "friends=5\n",
        "sentence= 'hlo all, I am {0} of {1} studing {2} branch and i am still {3}. I have only {4} of my friends who are always with me'\n",
        "print(sentence.format(Name, College_name, Branch, age, friends))"
      ],
      "metadata": {
        "colab": {
          "base_uri": "https://localhost:8080/"
        },
        "id": "wvten0OnqGET",
        "outputId": "2a97210e-65b9-45e9-a6b0-9f333a7d916a"
      },
      "execution_count": 18,
      "outputs": [
        {
          "output_type": "stream",
          "name": "stdout",
          "text": [
            "hlo all, I am D.Sanjay of GITAM studing cse(ai and ml) branch and i am still 19. I have only 5 of my friends who are always with me\n"
          ]
        }
      ]
    }
  ]
}