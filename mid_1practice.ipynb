{
  "nbformat": 4,
  "nbformat_minor": 0,
  "metadata": {
    "colab": {
      "name": "mid 1practice.ipynb",
      "provenance": [],
      "collapsed_sections": [],
      "authorship_tag": "ABX9TyMA3FyH+tzksQ58M2R9MN9u",
      "include_colab_link": true
    },
    "kernelspec": {
      "name": "python3",
      "display_name": "Python 3"
    },
    "language_info": {
      "name": "python"
    }
  },
  "cells": [
    {
      "cell_type": "markdown",
      "metadata": {
        "id": "view-in-github",
        "colab_type": "text"
      },
      "source": [
        "<a href=\"https://colab.research.google.com/github/DwarapureddySanjay/python-practice/blob/main/mid_1practice.ipynb\" target=\"_parent\"><img src=\"https://colab.research.google.com/assets/colab-badge.svg\" alt=\"Open In Colab\"/></a>"
      ]
    },
    {
      "cell_type": "markdown",
      "source": [
        "# Write a program to print prime numbers in given range by using function[25-50]"
      ],
      "metadata": {
        "id": "3XnggKDsZ78q"
      }
    },
    {
      "cell_type": "code",
      "source": [
        "def prime(a,b):\n",
        "  for i in range(a, b+1):\n",
        "    k=0\n",
        "    for j in range(2,i):\n",
        "      if(i%j==0):\n",
        "        k=k+1\n",
        "    if k==0:\n",
        "      print(i)\n",
        "prime(25,50)"
      ],
      "metadata": {
        "colab": {
          "base_uri": "https://localhost:8080/",
          "height": 0
        },
        "id": "kSHleir6dNeC",
        "outputId": "fd08bb5a-0673-4be1-d5c8-6181fbeb1c57"
      },
      "execution_count": 29,
      "outputs": [
        {
          "output_type": "stream",
          "name": "stdout",
          "text": [
            "29\n",
            "31\n",
            "37\n",
            "41\n",
            "43\n",
            "47\n"
          ]
        }
      ]
    },
    {
      "cell_type": "markdown",
      "source": [
        "# Write a program to read any month in integer and display days for that month "
      ],
      "metadata": {
        "id": "DoREsbrWaPpK"
      }
    },
    {
      "cell_type": "code",
      "source": [
        "n=int(input())\n",
        "if (n>=1 or n<=12):\n",
        "  if (n==1 or n==3 or n==5 or n==7 or n==8 or n==10 or n==12):\n",
        "    print('the month is having 31 days')\n",
        "  elif(n==2):\n",
        "    print('the month is having 28 days')\n",
        "  else:\n",
        "    print('the month is having 30 days')\n",
        "else:\n",
        "  print('not a month')"
      ],
      "metadata": {
        "colab": {
          "base_uri": "https://localhost:8080/"
        },
        "id": "XOwO__2sfrCa",
        "outputId": "bbb1cabe-852a-4405-f339-ecd23000ce4b"
      },
      "execution_count": null,
      "outputs": [
        {
          "output_type": "stream",
          "name": "stdout",
          "text": [
            "8\n",
            "the month is having 31 days\n"
          ]
        }
      ]
    },
    {
      "cell_type": "markdown",
      "source": [
        "# Write a python program to print even length words in a string (in (this is a python class)) print only this, python, is."
      ],
      "metadata": {
        "id": "GOZHJURWanMZ"
      }
    },
    {
      "cell_type": "code",
      "source": [
        "n=str(input())\n",
        "n=n.split(' ')\n",
        "for x in n:\n",
        "  if len(x)%2==0:\n",
        "    print(x)"
      ],
      "metadata": {
        "colab": {
          "base_uri": "https://localhost:8080/"
        },
        "id": "bMgErB85m1Yo",
        "outputId": "a34b7d33-458b-4644-e001-dfd4491cf64e"
      },
      "execution_count": null,
      "outputs": [
        {
          "output_type": "stream",
          "name": "stdout",
          "text": [
            "this is my laptop y\n",
            "this\n",
            "is\n",
            "my\n",
            "laptop\n"
          ]
        }
      ]
    },
    {
      "cell_type": "markdown",
      "source": [
        "# a)Write a python program to capitalise the 1st and last letter of each word\n",
        "#  b) Write a program to read a string from user display first character of each word with capital letter"
      ],
      "metadata": {
        "id": "8HmEYwQhbOSB"
      }
    },
    {
      "cell_type": "code",
      "source": [
        "# a) \n",
        "def FirstAndLast(string):\n",
        "  ch = list(string)\n",
        "  i = 0\n",
        "  while i<len(ch):\n",
        "    k=i\n",
        "    while(i<len(ch) and ch[i]!=\"\"):\n",
        "        i+=1\n",
        "    if (ord(ch[k]) >= 97 and ord(ch[k]) <= 122 ):\n",
        "      ch[k] = chr(ord(ch[k]) - 32)\n",
        "    else:\n",
        "      ch[k] = ch[k]       \n",
        "    if(ord(ch[i - 1]) >= 90 and ord(ch[i - 1]) <= 122 ):\n",
        "      ch[i - 1] = chr(ord(ch[i - 1]) - 32);\n",
        "    else:\n",
        "      ch[i - 1] = ch[i - 1]\n",
        "      i += 1\n",
        "  return \"\" . join(ch)\n",
        "if __name__ == \"_main_\" :\n",
        "    string = \"I have mid on thursday\"\n",
        "    print(string)\n",
        "    print(FirstAndLast(string))"
      ],
      "metadata": {
        "id": "EfG6rpwjryNf"
      },
      "execution_count": 33,
      "outputs": []
    },
    {
      "cell_type": "code",
      "source": [
        "# b)\n",
        "n='this is my computer'\n",
        "print(len(n))\n",
        "print(n.upper())"
      ],
      "metadata": {
        "colab": {
          "base_uri": "https://localhost:8080/"
        },
        "id": "AxhR1UYUqlgJ",
        "outputId": "25922c90-e788-4f6f-e4a9-da43c2f4d66c"
      },
      "execution_count": null,
      "outputs": [
        {
          "output_type": "stream",
          "name": "stdout",
          "text": [
            "19\n",
            "THIS IS MY COMPUTER\n"
          ]
        }
      ]
    },
    {
      "cell_type": "markdown",
      "source": [
        "# Write a python program to convert a list of multiple integers into a string.\n",
        "# input [11,33,59] output [113359]"
      ],
      "metadata": {
        "id": "_oTvLD7FcAGq"
      }
    },
    {
      "cell_type": "code",
      "source": [
        "list=[11,33,59]\n",
        "for i in list:\n",
        "  print(i)"
      ],
      "metadata": {
        "id": "DBQIJM0JcdX7",
        "colab": {
          "base_uri": "https://localhost:8080/",
          "height": 0
        },
        "outputId": "5bd60b73-b8f8-4699-ca23-b8d662db9b95"
      },
      "execution_count": 1,
      "outputs": [
        {
          "output_type": "stream",
          "name": "stdout",
          "text": [
            "11\n",
            "33\n",
            "59\n"
          ]
        }
      ]
    },
    {
      "cell_type": "markdown",
      "source": [
        "#Write a python program to find power of number with recurtion without recurtion"
      ],
      "metadata": {
        "id": "pErdva3RJbW2"
      }
    },
    {
      "cell_type": "code",
      "source": [
        "# Using recursion\n",
        "def power(a,b):\n",
        "  if b==0:\n",
        "    return 1\n",
        "  else:\n",
        "    return (a*power(a,b-1))\n",
        "print(power(2,3))\n",
        "# whithout recursion\n",
        "import math\n",
        "a=int(input())\n",
        "b=int(input())\n",
        "print(math.pow(a,b))"
      ],
      "metadata": {
        "id": "wC3kEa8iVJFR",
        "colab": {
          "base_uri": "https://localhost:8080/",
          "height": 0
        },
        "outputId": "b0e2f3ba-9723-4fee-a3ac-1b6036b74d07"
      },
      "execution_count": 32,
      "outputs": [
        {
          "output_type": "stream",
          "name": "stdout",
          "text": [
            "8\n",
            "2\n",
            "3\n",
            "8.0\n"
          ]
        }
      ]
    },
    {
      "cell_type": "markdown",
      "source": [
        "# Write a program to sort tuples by total digits \n",
        "# input list=[(3,4,6,723),(1,2),(134,234,34)] output list=[(1,2),(3,4,6,723),(134,234,34)]"
      ],
      "metadata": {
        "id": "qr1MK4XhJp78"
      }
    },
    {
      "cell_type": "code",
      "source": [
        "a=[(3,4,6,723),(1,2),(134,234,34)]\n",
        "a.sort()\n",
        "print(a)"
      ],
      "metadata": {
        "colab": {
          "base_uri": "https://localhost:8080/",
          "height": 0
        },
        "id": "Tq34TAgWyUwc",
        "outputId": "9070b433-aacd-496f-b1a4-318ea0f08542"
      },
      "execution_count": 4,
      "outputs": [
        {
          "output_type": "stream",
          "name": "stdout",
          "text": [
            "[(1, 2), (3, 4, 6, 723), (134, 234, 34)]\n"
          ]
        }
      ]
    },
    {
      "cell_type": "markdown",
      "source": [
        "# Take 5 subject marks from the user and display the grade of the student\n",
        "# if avg is 90-100 O grade"
      ],
      "metadata": {
        "id": "DLnDgIYUKm-6"
      }
    },
    {
      "cell_type": "code",
      "source": [
        "a=int(input('enter 1st subject marks'))\n",
        "b=int(input('enter 2nd subject marks'))\n",
        "c=int(input('enter 3rd subject marks'))\n",
        "d=int(input('enter 4th subject marks'))\n",
        "e=int(input('enter 5th subject marks'))\n",
        "avg=(a+b+c+d+e)/5\n",
        "if avg>=90:\n",
        "  print('o grade')\n",
        "elif avg>=80 and avg<90:\n",
        "  print('A+ grade')\n",
        "elif avg>=70 and avg<=80:\n",
        "  print('A grade')\n",
        "elif avg>=60 and avg<=70:\n",
        "  print('B+ grade')\n",
        "elif avg>=50 and avg<=60:\n",
        "  print('B grade')\n",
        "elif avg>=40 and avg<=50:\n",
        "  print('C grade')\n",
        "elif avg>=30 and avg<=40:\n",
        "  print('D grade')\n",
        "else:\n",
        "  print('Fail')\n"
      ],
      "metadata": {
        "colab": {
          "base_uri": "https://localhost:8080/"
        },
        "id": "3n2rBxB6XcAC",
        "outputId": "dc48a732-6c41-483d-b438-0683b6ea0159"
      },
      "execution_count": null,
      "outputs": [
        {
          "output_type": "stream",
          "name": "stdout",
          "text": [
            "enter 1st subject marks56\n",
            "enter 2nd subject marks78\n",
            "enter 3rd subject marks46\n",
            "enter 4th subject marks89\n",
            "enter 5th subject marks23\n",
            "B grade\n"
          ]
        }
      ]
    },
    {
      "cell_type": "markdown",
      "source": [
        "# Write a python program that prints digit 1 if all the three given numbers are in ascending order otherwise print 0"
      ],
      "metadata": {
        "id": "np9zg3WRLAUF"
      }
    },
    {
      "cell_type": "code",
      "source": [
        "a=int(input('enter the 1st number'))\n",
        "b=int(input('enter the 2nd number'))\n",
        "c=int(input('enter the 3rd number'))\n",
        "if b==a+1 and c==a+2:\n",
        "  if a<b and b<c:\n",
        "    print(1)\n",
        "  else:\n",
        "    print(0)\n",
        "else:\n",
        "  print('not in series')  "
      ],
      "metadata": {
        "colab": {
          "base_uri": "https://localhost:8080/"
        },
        "id": "gT48CSbJbpfS",
        "outputId": "e5e8d4b1-3608-4f2c-9452-a58dcfc6d39c"
      },
      "execution_count": null,
      "outputs": [
        {
          "output_type": "stream",
          "name": "stdout",
          "text": [
            "enter the 1st number3 \n",
            "enter the 2nd number4\n",
            "enter the 3rd number6\n",
            "not in series\n"
          ]
        }
      ]
    },
    {
      "cell_type": "markdown",
      "source": [
        "# Check given number is perfect or not"
      ],
      "metadata": {
        "id": "gtRuczH6LaNc"
      }
    },
    {
      "cell_type": "code",
      "source": [
        "n=int(input('enter the input'))\n",
        "sm=0\n",
        "for i in range(1,n):\n",
        "  rem=n%i\n",
        "  if rem==0:\n",
        "    sm=sm+i\n",
        "if (sm==n):\n",
        "  print(\"it is a perfect number\")\n",
        "else:\n",
        "  print(\"it is not a perfect number\")"
      ],
      "metadata": {
        "colab": {
          "base_uri": "https://localhost:8080/",
          "height": 0
        },
        "id": "uISlWjLVpsrN",
        "outputId": "401bc214-0b59-4af2-8b10-2271df08586e"
      },
      "execution_count": 2,
      "outputs": [
        {
          "output_type": "stream",
          "name": "stdout",
          "text": [
            "enter the input6\n",
            "it is a perfect number\n"
          ]
        }
      ]
    },
    {
      "cell_type": "markdown",
      "source": [
        "# Check given string is palendrome or not"
      ],
      "metadata": {
        "id": "rdT_FrG0Ls29"
      }
    },
    {
      "cell_type": "code",
      "source": [
        "a='wow'\n",
        "b=a[::-1]\n",
        "if b==a:\n",
        "  print('it is a palindrome')\n",
        "else:\n",
        "  print('it is not a palindrome')"
      ],
      "metadata": {
        "colab": {
          "base_uri": "https://localhost:8080/",
          "height": 0
        },
        "id": "47Th5nsSqEjA",
        "outputId": "d057ff05-3cc0-40cd-9417-c11f7dce1855"
      },
      "execution_count": 11,
      "outputs": [
        {
          "output_type": "stream",
          "name": "stdout",
          "text": [
            "it is a palindrome\n"
          ]
        }
      ]
    },
    {
      "cell_type": "markdown",
      "source": [
        "# Find the gcd of given numbers with and without recursion."
      ],
      "metadata": {
        "id": "qzywBdT9MHzU"
      }
    },
    {
      "cell_type": "code",
      "source": [
        "# without recursion\n",
        "import math\n",
        "a=int(input('enter 1st number'))\n",
        "b=int(input('enter 2nd number'))\n",
        "print(math.gcd(a,b))\n",
        "# with recursion\n",
        "def gcd(a,b):\n",
        "  return(math.gcd(a,b))\n",
        "c=int(input('enter 1st number')) \n",
        "d=int(input('enter 2nd number')) \n",
        "print(gcd(c,d))"
      ],
      "metadata": {
        "colab": {
          "base_uri": "https://localhost:8080/",
          "height": 0
        },
        "id": "7GiKTFndqcNx",
        "outputId": "75dbdb9f-91e8-450f-f916-7c6705e69a4d"
      },
      "execution_count": 15,
      "outputs": [
        {
          "output_type": "stream",
          "name": "stdout",
          "text": [
            "enter 1st number15\n",
            "enter 2nd number5\n",
            "5\n",
            "enter 1st number25\n",
            "enter 2nd number5\n",
            "5\n"
          ]
        }
      ]
    },
    {
      "cell_type": "markdown",
      "source": [
        "# Print sum of digits in a given number\n",
        "#input=1234 output=2+4=6"
      ],
      "metadata": {
        "id": "Vb-yE5evMc9d"
      }
    },
    {
      "cell_type": "code",
      "source": [
        "n=str(input())\n",
        "s=0\n",
        "for i in n:\n",
        "  if int(i)%2==0:\n",
        "    s=s+int(i)\n",
        "print(s)\n"
      ],
      "metadata": {
        "colab": {
          "base_uri": "https://localhost:8080/",
          "height": 0
        },
        "id": "_dT4RLhPE0dw",
        "outputId": "79419194-2bdc-4c4b-ca90-efe61ea919f6"
      },
      "execution_count": 16,
      "outputs": [
        {
          "output_type": "stream",
          "name": "stdout",
          "text": [
            "123456\n",
            "12\n"
          ]
        }
      ]
    },
    {
      "cell_type": "markdown",
      "source": [
        "# Program to calculate the sum of squares of digits of a number given by the user \n",
        "# input=123 output=1^2+2^2+3^2=14"
      ],
      "metadata": {
        "id": "TTJLV3MLMxAl"
      }
    },
    {
      "cell_type": "code",
      "source": [
        "n=int(input())\n",
        "s=0\n",
        "while n!=0:\n",
        "    rem=n%10\n",
        "    sqr=rem*rem\n",
        "    s=s+sqr\n",
        "    n=int(n/10)\n",
        "print(s)"
      ],
      "metadata": {
        "colab": {
          "base_uri": "https://localhost:8080/",
          "height": 0
        },
        "id": "lpAk0_KMGr41",
        "outputId": "7fe67930-1110-4b22-c442-6eb2752ec6d3"
      },
      "execution_count": 18,
      "outputs": [
        {
          "output_type": "stream",
          "name": "stdout",
          "text": [
            "123\n",
            "14\n"
          ]
        }
      ]
    },
    {
      "cell_type": "markdown",
      "source": [
        "# Given a string is s='abcdefcba'.front and last match is count+1 "
      ],
      "metadata": {
        "id": "083eP19qNQ32"
      }
    },
    {
      "cell_type": "code",
      "source": [
        "a=str(input())\n",
        "b=a[::-1]\n",
        "l=int((len(a)/2))\n",
        "s=0\n",
        "for i in range(0,l):\n",
        "  if a[i]==b[i]:\n",
        "    s=s+1\n",
        "print(s)"
      ],
      "metadata": {
        "colab": {
          "base_uri": "https://localhost:8080/",
          "height": 0
        },
        "id": "lvkI4asCIPiL",
        "outputId": "4495b411-9fcb-4bd9-d4c3-f4e3379fe4bb"
      },
      "execution_count": 20,
      "outputs": [
        {
          "output_type": "stream",
          "name": "stdout",
          "text": [
            "abcdefcba\n",
            "3\n"
          ]
        }
      ]
    },
    {
      "cell_type": "markdown",
      "source": [
        "# given an integer n, a list containing 1223334444\n",
        "# input=4 output=1223334444"
      ],
      "metadata": {
        "id": "crsN0DXnOBlu"
      }
    },
    {
      "cell_type": "markdown",
      "source": [
        "# print the number of vowels and constants\n",
        "# input=Gitam output= 2 vowels 3 constants"
      ],
      "metadata": {
        "id": "MyTLSEi9OzH9"
      }
    },
    {
      "cell_type": "code",
      "source": [
        "n=str(input())\n",
        "a=0\n",
        "b=0\n",
        "for i in n:\n",
        "  if i=='a' or i=='e' or i=='o'or i=='u'or i=='i':\n",
        "    a+=1\n",
        "  else:\n",
        "    b+=1\n",
        "print(a)\n",
        "print(b)"
      ],
      "metadata": {
        "colab": {
          "base_uri": "https://localhost:8080/",
          "height": 0
        },
        "id": "E9az6NN_Kfvl",
        "outputId": "8f7d52ad-7059-40c2-a06a-891511ae8003"
      },
      "execution_count": 21,
      "outputs": [
        {
          "output_type": "stream",
          "name": "stdout",
          "text": [
            "deemed to be university\n",
            "9\n",
            "14\n"
          ]
        }
      ]
    },
    {
      "cell_type": "markdown",
      "source": [
        "# Given two integers a and b if a<b print all the numbers in ascending order \n",
        "# and if a>b print in descending order"
      ],
      "metadata": {
        "id": "_Cqq5cOaPUIN"
      }
    },
    {
      "cell_type": "code",
      "source": [
        "a=int(input())\n",
        "b=int(input())\n",
        "if a<b:\n",
        "  for i in range(a,b):\n",
        "    print(i)\n",
        "else:\n",
        "  for i in range(a,b,-1):\n",
        "    print(i)"
      ],
      "metadata": {
        "colab": {
          "base_uri": "https://localhost:8080/",
          "height": 0
        },
        "id": "NKyzvnHLLAe-",
        "outputId": "d9c13a8a-a2fd-4196-f3f1-dc5bbfdbfb21"
      },
      "execution_count": 30,
      "outputs": [
        {
          "output_type": "stream",
          "name": "stdout",
          "text": [
            "10\n",
            "3\n",
            "10\n",
            "9\n",
            "8\n",
            "7\n",
            "6\n",
            "5\n",
            "4\n"
          ]
        }
      ]
    },
    {
      "cell_type": "markdown",
      "source": [
        "# Write a program to count the number of strings where the sring length is 2 or more and the first and last character are same\n"
      ],
      "metadata": {
        "id": "9AjwOd-EP_FH"
      }
    },
    {
      "cell_type": "code",
      "source": [
        "def match(words):\n",
        "  a=0\n",
        "  for x in words:\n",
        "    if len(words) > 1 and x[0] == x[-1]:\n",
        "      a+=1\n",
        "  return a\n",
        "print(match(['abc','xyz','aba','1221']))"
      ],
      "metadata": {
        "colab": {
          "base_uri": "https://localhost:8080/",
          "height": 0
        },
        "id": "eYxYmz7CLixm",
        "outputId": "708ff4f9-ff84-4278-9a89-e8e729843063"
      },
      "execution_count": 22,
      "outputs": [
        {
          "output_type": "stream",
          "name": "stdout",
          "text": [
            "2\n"
          ]
        }
      ]
    },
    {
      "cell_type": "markdown",
      "source": [
        "# There is a walking track of 3 km one round=3+3=6 take the input from the user how many days he went and how many rounds he completed \n",
        "# if<400 mts message='work more'if>40000 mts message=good job"
      ],
      "metadata": {
        "id": "S_o_0wCQQg7p"
      }
    },
    {
      "cell_type": "code",
      "source": [
        "days=int(input('Enter no of days:'))\n",
        "no=int(input(\"enter no of rounds per day:\"))\n",
        "num=(no*600)\n",
        "dis=days*num\n",
        "if dis<400:\n",
        "  print(\"need to work more\")\n",
        "elif dis>=40000:\n",
        "  print(\"excellent job\")\n",
        "else:\n",
        "  print(\"Not bad\")"
      ],
      "metadata": {
        "colab": {
          "base_uri": "https://localhost:8080/",
          "height": 0
        },
        "id": "Pev6sqaNLkLA",
        "outputId": "c0a66f29-3d42-4212-ecc2-2dfe8bffdd46"
      },
      "execution_count": 28,
      "outputs": [
        {
          "output_type": "stream",
          "name": "stdout",
          "text": [
            "Enter no of days:30\n",
            "enter no of rounds per day:5\n",
            "excellent job\n"
          ]
        }
      ]
    },
    {
      "cell_type": "markdown",
      "source": [
        "# Given a list of students L and include characters also display the names of the student whose first letter is given as input "
      ],
      "metadata": {
        "id": "HLjtGC7BRzCo"
      }
    },
    {
      "cell_type": "code",
      "source": [
        "test_str =['hello','Hello']\n",
        "print(\"The original string is : \" + str(test_str))\n",
        "for ele in test_str:\n",
        "   if ele.isupper():\n",
        "     print(ele)"
      ],
      "metadata": {
        "colab": {
          "base_uri": "https://localhost:8080/",
          "height": 0
        },
        "id": "8qlFGwwQLlKY",
        "outputId": "759e470e-ef58-4987-f51f-aefd29c0a222"
      },
      "execution_count": 25,
      "outputs": [
        {
          "output_type": "stream",
          "name": "stdout",
          "text": [
            "The original string is : ['hello', 'Hello']\n"
          ]
        }
      ]
    },
    {
      "cell_type": "markdown",
      "source": [
        "# Given a list of city names,print whose string length is greater then the given length "
      ],
      "metadata": {
        "id": "wf6eiCVOSUCH"
      }
    },
    {
      "cell_type": "code",
      "source": [
        "list=['delhi','Mumbai','Goa']\n",
        "l=int(input())\n",
        "for x in list:\n",
        "  if len(x)>l:\n",
        "    print(x)"
      ],
      "metadata": {
        "colab": {
          "base_uri": "https://localhost:8080/",
          "height": 0
        },
        "id": "tMWzThlPLl-7",
        "outputId": "e2a4836e-223a-4ca9-998d-c8da2d23e190"
      },
      "execution_count": 27,
      "outputs": [
        {
          "output_type": "stream",
          "name": "stdout",
          "text": [
            "2\n",
            "delhi\n",
            "Mumbai\n",
            "Goa\n"
          ]
        }
      ]
    }
  ]
}