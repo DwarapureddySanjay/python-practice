{
  "nbformat": 4,
  "nbformat_minor": 0,
  "metadata": {
    "colab": {
      "name": "mid 1practice.ipynb",
      "provenance": [],
      "authorship_tag": "ABX9TyNe7OF+TlHR7T0P1usnSccy",
      "include_colab_link": true
    },
    "kernelspec": {
      "name": "python3",
      "display_name": "Python 3"
    },
    "language_info": {
      "name": "python"
    }
  },
  "cells": [
    {
      "cell_type": "markdown",
      "metadata": {
        "id": "view-in-github",
        "colab_type": "text"
      },
      "source": [
        "<a href=\"https://colab.research.google.com/github/DwarapureddySanjay/python-practice/blob/main/mid_1practice.ipynb\" target=\"_parent\"><img src=\"https://colab.research.google.com/assets/colab-badge.svg\" alt=\"Open In Colab\"/></a>"
      ]
    },
    {
      "cell_type": "markdown",
      "source": [
        "# Write a program to print prime numbers in given range by using function[25-50]"
      ],
      "metadata": {
        "id": "3XnggKDsZ78q"
      }
    },
    {
      "cell_type": "code",
      "source": [
        "def prime(a,b):\n",
        "  for i in range (a,b+1) :\n",
        "     k=0\n",
        "     for j in range(2,i):\n",
        "       if(i%j==0):\n",
        "         k=k+1\n",
        "       if k==0:\n",
        "         print(i)\n",
        "prime(25,50)"
      ],
      "metadata": {
        "colab": {
          "base_uri": "https://localhost:8080/"
        },
        "id": "kSHleir6dNeC",
        "outputId": "37405c39-0b26-43d3-eea8-f1e74fa9faba"
      },
      "execution_count": null,
      "outputs": [
        {
          "output_type": "stream",
          "name": "stdout",
          "text": [
            "25\n",
            "25\n",
            "25\n",
            "27\n",
            "29\n",
            "29\n",
            "29\n",
            "29\n",
            "29\n",
            "29\n",
            "29\n",
            "29\n",
            "29\n",
            "29\n",
            "29\n",
            "29\n",
            "29\n",
            "29\n",
            "29\n",
            "29\n",
            "29\n",
            "29\n",
            "29\n",
            "29\n",
            "29\n",
            "29\n",
            "29\n",
            "29\n",
            "29\n",
            "29\n",
            "29\n",
            "31\n",
            "31\n",
            "31\n",
            "31\n",
            "31\n",
            "31\n",
            "31\n",
            "31\n",
            "31\n",
            "31\n",
            "31\n",
            "31\n",
            "31\n",
            "31\n",
            "31\n",
            "31\n",
            "31\n",
            "31\n",
            "31\n",
            "31\n",
            "31\n",
            "31\n",
            "31\n",
            "31\n",
            "31\n",
            "31\n",
            "31\n",
            "31\n",
            "31\n",
            "33\n",
            "35\n",
            "35\n",
            "35\n",
            "37\n",
            "37\n",
            "37\n",
            "37\n",
            "37\n",
            "37\n",
            "37\n",
            "37\n",
            "37\n",
            "37\n",
            "37\n",
            "37\n",
            "37\n",
            "37\n",
            "37\n",
            "37\n",
            "37\n",
            "37\n",
            "37\n",
            "37\n",
            "37\n",
            "37\n",
            "37\n",
            "37\n",
            "37\n",
            "37\n",
            "37\n",
            "37\n",
            "37\n",
            "37\n",
            "37\n",
            "37\n",
            "37\n",
            "37\n",
            "37\n",
            "39\n",
            "41\n",
            "41\n",
            "41\n",
            "41\n",
            "41\n",
            "41\n",
            "41\n",
            "41\n",
            "41\n",
            "41\n",
            "41\n",
            "41\n",
            "41\n",
            "41\n",
            "41\n",
            "41\n",
            "41\n",
            "41\n",
            "41\n",
            "41\n",
            "41\n",
            "41\n",
            "41\n",
            "41\n",
            "41\n",
            "41\n",
            "41\n",
            "41\n",
            "41\n",
            "41\n",
            "41\n",
            "41\n",
            "41\n",
            "41\n",
            "41\n",
            "41\n",
            "41\n",
            "41\n",
            "41\n",
            "43\n",
            "43\n",
            "43\n",
            "43\n",
            "43\n",
            "43\n",
            "43\n",
            "43\n",
            "43\n",
            "43\n",
            "43\n",
            "43\n",
            "43\n",
            "43\n",
            "43\n",
            "43\n",
            "43\n",
            "43\n",
            "43\n",
            "43\n",
            "43\n",
            "43\n",
            "43\n",
            "43\n",
            "43\n",
            "43\n",
            "43\n",
            "43\n",
            "43\n",
            "43\n",
            "43\n",
            "43\n",
            "43\n",
            "43\n",
            "43\n",
            "43\n",
            "43\n",
            "43\n",
            "43\n",
            "43\n",
            "43\n",
            "45\n",
            "47\n",
            "47\n",
            "47\n",
            "47\n",
            "47\n",
            "47\n",
            "47\n",
            "47\n",
            "47\n",
            "47\n",
            "47\n",
            "47\n",
            "47\n",
            "47\n",
            "47\n",
            "47\n",
            "47\n",
            "47\n",
            "47\n",
            "47\n",
            "47\n",
            "47\n",
            "47\n",
            "47\n",
            "47\n",
            "47\n",
            "47\n",
            "47\n",
            "47\n",
            "47\n",
            "47\n",
            "47\n",
            "47\n",
            "47\n",
            "47\n",
            "47\n",
            "47\n",
            "47\n",
            "47\n",
            "47\n",
            "47\n",
            "47\n",
            "47\n",
            "47\n",
            "47\n",
            "49\n",
            "49\n",
            "49\n",
            "49\n",
            "49\n"
          ]
        }
      ]
    },
    {
      "cell_type": "markdown",
      "source": [
        "# Write a program to read any month in integer and display days for that month "
      ],
      "metadata": {
        "id": "DoREsbrWaPpK"
      }
    },
    {
      "cell_type": "code",
      "source": [
        "n=int(input())\n",
        "if (n>=1 or n<=12):\n",
        "  if (n==1 or n==3 or n==5 or n==7 or n==8 or n==10 or n==12):\n",
        "    print('the month is having 31 days')\n",
        "  elif(n==2):\n",
        "    print('the month is having 28 days')\n",
        "  else:\n",
        "    print('the month is having 30 days')\n",
        "else:\n",
        "  print('not a month')"
      ],
      "metadata": {
        "colab": {
          "base_uri": "https://localhost:8080/"
        },
        "id": "XOwO__2sfrCa",
        "outputId": "bbb1cabe-852a-4405-f339-ecd23000ce4b"
      },
      "execution_count": null,
      "outputs": [
        {
          "output_type": "stream",
          "name": "stdout",
          "text": [
            "8\n",
            "the month is having 31 days\n"
          ]
        }
      ]
    },
    {
      "cell_type": "markdown",
      "source": [
        "# Write a python program to print even length words in a string (in (this is a python class)) print only this, python, is."
      ],
      "metadata": {
        "id": "GOZHJURWanMZ"
      }
    },
    {
      "cell_type": "code",
      "source": [
        "n=str(input())\n",
        "n=n.split(' ')\n",
        "for x in n:\n",
        "  if len(x)%2==0:\n",
        "    print(x)"
      ],
      "metadata": {
        "colab": {
          "base_uri": "https://localhost:8080/"
        },
        "id": "bMgErB85m1Yo",
        "outputId": "a34b7d33-458b-4644-e001-dfd4491cf64e"
      },
      "execution_count": null,
      "outputs": [
        {
          "output_type": "stream",
          "name": "stdout",
          "text": [
            "this is my laptop y\n",
            "this\n",
            "is\n",
            "my\n",
            "laptop\n"
          ]
        }
      ]
    },
    {
      "cell_type": "markdown",
      "source": [
        "# a)Write a python program to capitalise the 1st and last letter of each word\n",
        "#  b) Write a program to read a string from user display first character of each word with capital letter"
      ],
      "metadata": {
        "id": "8HmEYwQhbOSB"
      }
    },
    {
      "cell_type": "code",
      "source": [
        "# a) \n",
        "n=str(input('Enter the string'))\n",
        "b=n.split(' ')\n",
        "n=''\n",
        "for i in b:\n",
        "  x=i([0].capitalize())\n",
        "  y=i([-1].capitalize())\n",
        "  n="
      ],
      "metadata": {
        "colab": {
          "base_uri": "https://localhost:8080/"
        },
        "id": "EfG6rpwjryNf",
        "outputId": "2b3ab3c6-04b5-4b4a-9d91-c35f12cb3d70"
      },
      "execution_count": null,
      "outputs": [
        {
          "output_type": "stream",
          "name": "stdout",
          "text": [
            "Enter the stringthe exam is postponed\n",
            "The\n",
            "Exam\n",
            "Is\n",
            "Postponed\n"
          ]
        }
      ]
    },
    {
      "cell_type": "code",
      "source": [
        "# b)\n",
        "n='this is my computer'\n",
        "print(len(n))\n",
        "print(n.upper())"
      ],
      "metadata": {
        "colab": {
          "base_uri": "https://localhost:8080/"
        },
        "id": "AxhR1UYUqlgJ",
        "outputId": "25922c90-e788-4f6f-e4a9-da43c2f4d66c"
      },
      "execution_count": null,
      "outputs": [
        {
          "output_type": "stream",
          "name": "stdout",
          "text": [
            "19\n",
            "THIS IS MY COMPUTER\n"
          ]
        }
      ]
    },
    {
      "cell_type": "markdown",
      "source": [
        "# Write a python program to convert a list of multiple integers into a string.\n",
        "# input [11,33,59] output [113359]"
      ],
      "metadata": {
        "id": "_oTvLD7FcAGq"
      }
    },
    {
      "cell_type": "code",
      "source": [
        ""
      ],
      "metadata": {
        "id": "DBQIJM0JcdX7"
      },
      "execution_count": null,
      "outputs": []
    },
    {
      "cell_type": "markdown",
      "source": [
        "#Write a python program to find power of number with recurtion without recurtion"
      ],
      "metadata": {
        "id": "pErdva3RJbW2"
      }
    },
    {
      "cell_type": "code",
      "source": [
        "def power(a,b):\n",
        "  if b=0:\n",
        "    return 1\n",
        "  else:\n",
        "    return(a*)"
      ],
      "metadata": {
        "id": "wC3kEa8iVJFR"
      },
      "execution_count": null,
      "outputs": []
    },
    {
      "cell_type": "markdown",
      "source": [
        "# Write a program to sort tuples by total digits \n",
        "# input list=[(3,4,6,723),(1,2),(134,234,34)] output list=[(1,2),(3,4,6,723),(134,234,34)]"
      ],
      "metadata": {
        "id": "qr1MK4XhJp78"
      }
    },
    {
      "cell_type": "markdown",
      "source": [
        "# Take 5 subject marks from the user and display the grade of the student\n",
        "# if avg is 90-100 O grade"
      ],
      "metadata": {
        "id": "DLnDgIYUKm-6"
      }
    },
    {
      "cell_type": "code",
      "source": [
        "a=int(input('enter 1st subject marks'))\n",
        "b=int(input('enter 2nd subject marks'))\n",
        "c=int(input('enter 3rd subject marks'))\n",
        "d=int(input('enter 4th subject marks'))\n",
        "e=int(input('enter 5th subject marks'))\n",
        "avg=(a+b+c+d+e)/5\n",
        "if avg>=90:\n",
        "  print('o grade')\n",
        "elif avg>=80 and avg<90:\n",
        "  print('A+ grade')\n",
        "elif avg>=70 and avg<=80:\n",
        "  print('A grade')\n",
        "elif avg>=60 and avg<=70:\n",
        "  print('B+ grade')\n",
        "elif avg>=50 and avg<=60:\n",
        "  print('B grade')\n",
        "elif avg>=40 and avg<=50:\n",
        "  print('C grade')\n",
        "elif avg>=30 and avg<=40:\n",
        "  print('D grade')\n",
        "else:\n",
        "  print('Fail')\n"
      ],
      "metadata": {
        "colab": {
          "base_uri": "https://localhost:8080/"
        },
        "id": "3n2rBxB6XcAC",
        "outputId": "dc48a732-6c41-483d-b438-0683b6ea0159"
      },
      "execution_count": 1,
      "outputs": [
        {
          "output_type": "stream",
          "name": "stdout",
          "text": [
            "enter 1st subject marks56\n",
            "enter 2nd subject marks78\n",
            "enter 3rd subject marks46\n",
            "enter 4th subject marks89\n",
            "enter 5th subject marks23\n",
            "B grade\n"
          ]
        }
      ]
    },
    {
      "cell_type": "markdown",
      "source": [
        "# Write a python program that prints digit 1 if all the three given numbers are in ascending order otherwise print 0"
      ],
      "metadata": {
        "id": "np9zg3WRLAUF"
      }
    },
    {
      "cell_type": "code",
      "source": [
        "a=int(input('enter the 1st number'))\n",
        "b=int(input('enter the 2nd number'))\n",
        "c=int(input('enter the 3rd number'))\n",
        "if b==a+1 and c==a+2:\n",
        "  if a<b and b<c:\n",
        "    print(1)\n",
        "  else:\n",
        "    print(0)\n",
        "else:\n",
        "  print('not in series')  "
      ],
      "metadata": {
        "colab": {
          "base_uri": "https://localhost:8080/"
        },
        "id": "gT48CSbJbpfS",
        "outputId": "e5e8d4b1-3608-4f2c-9452-a58dcfc6d39c"
      },
      "execution_count": 3,
      "outputs": [
        {
          "output_type": "stream",
          "name": "stdout",
          "text": [
            "enter the 1st number3 \n",
            "enter the 2nd number4\n",
            "enter the 3rd number6\n",
            "not in series\n"
          ]
        }
      ]
    },
    {
      "cell_type": "markdown",
      "source": [
        "# Check given number is perfect or not"
      ],
      "metadata": {
        "id": "gtRuczH6LaNc"
      }
    },
    {
      "cell_type": "markdown",
      "source": [
        "# Check given string is palendrome or not"
      ],
      "metadata": {
        "id": "rdT_FrG0Ls29"
      }
    },
    {
      "cell_type": "markdown",
      "source": [
        "# Find the gcd of given numbers with and without recursion."
      ],
      "metadata": {
        "id": "qzywBdT9MHzU"
      }
    },
    {
      "cell_type": "markdown",
      "source": [
        "# Print sum of digits in a given number\n",
        "#input=1234 output=2+4=6"
      ],
      "metadata": {
        "id": "Vb-yE5evMc9d"
      }
    },
    {
      "cell_type": "markdown",
      "source": [
        "# Program to calculate the sum of squares of digits of a number given by the user \n",
        "# input=123 output=1^2+2^2+3^2=14"
      ],
      "metadata": {
        "id": "TTJLV3MLMxAl"
      }
    },
    {
      "cell_type": "markdown",
      "source": [
        "# Given a string is s='abcdefcba'.front and last match is count+1 "
      ],
      "metadata": {
        "id": "083eP19qNQ32"
      }
    },
    {
      "cell_type": "markdown",
      "source": [
        "# given an integer n, a list containing 1223334444\n",
        "# input=4 output=1223334444"
      ],
      "metadata": {
        "id": "crsN0DXnOBlu"
      }
    },
    {
      "cell_type": "markdown",
      "source": [
        "# print the number of vowels and constants\n",
        "# input=Gitam output= 2 vowels 3 constants"
      ],
      "metadata": {
        "id": "MyTLSEi9OzH9"
      }
    },
    {
      "cell_type": "markdown",
      "source": [
        "# Given two integers a and b if a<b print all the numbers in ascending order \n",
        "# and if a>b print in descending order"
      ],
      "metadata": {
        "id": "_Cqq5cOaPUIN"
      }
    },
    {
      "cell_type": "markdown",
      "source": [
        "# Write a program to count the number of strings where the sring length is 2 or more and the first and last character are same\n"
      ],
      "metadata": {
        "id": "9AjwOd-EP_FH"
      }
    },
    {
      "cell_type": "markdown",
      "source": [
        "# There is a walking track of 3 km one round=3+3=6 take the input from the user how many days he went and how many rounds he completed \n",
        "# if<400 mts message='work more'if>40000 mts message=good job"
      ],
      "metadata": {
        "id": "S_o_0wCQQg7p"
      }
    },
    {
      "cell_type": "markdown",
      "source": [
        "# Given a list of students L and include characters also display the names of the student whose first letter is given as input "
      ],
      "metadata": {
        "id": "HLjtGC7BRzCo"
      }
    },
    {
      "cell_type": "markdown",
      "source": [
        "# Given a list of city names,print whose string length is greater then the given length "
      ],
      "metadata": {
        "id": "wf6eiCVOSUCH"
      }
    }
  ]
}