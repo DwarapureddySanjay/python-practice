{
  "nbformat": 4,
  "nbformat_minor": 0,
  "metadata": {
    "colab": {
      "name": "module1.ipynb",
      "provenance": [],
      "authorship_tag": "ABX9TyOdM1hnJ1ECo/xsg6Va/rck",
      "include_colab_link": true
    },
    "kernelspec": {
      "name": "python3",
      "display_name": "Python 3"
    },
    "language_info": {
      "name": "python"
    }
  },
  "cells": [
    {
      "cell_type": "markdown",
      "metadata": {
        "id": "view-in-github",
        "colab_type": "text"
      },
      "source": [
        "<a href=\"https://colab.research.google.com/github/DwarapureddySanjay/python-practice/blob/main/module1.ipynb\" target=\"_parent\"><img src=\"https://colab.research.google.com/assets/colab-badge.svg\" alt=\"Open In Colab\"/></a>"
      ]
    },
    {
      "cell_type": "code",
      "execution_count": null,
      "metadata": {
        "id": "IE457j337-0x",
        "colab": {
          "base_uri": "https://localhost:8080/"
        },
        "outputId": "5a67721d-d785-4a3d-bc62-ac1510ca2e2b"
      },
      "outputs": [
        {
          "output_type": "stream",
          "name": "stdout",
          "text": [
            "zpple znd bznznz\n",
            "['ramesh', 'suresh']\n"
          ]
        }
      ],
      "source": [
        "fruits= 'apple and banana'\n",
        "print(fruits.replace('a','z'))\n",
        "names= 'ramesh suresh'\n",
        "print(names.split(' '))"
      ]
    },
    {
      "cell_type": "markdown",
      "source": [
        "MY DETAILS"
      ],
      "metadata": {
        "id": "pGdfXhy1qADP"
      }
    },
    {
      "cell_type": "code",
      "source": [
        "Name='D.Sanjay'\n",
        "College_name='GITAM'\n",
        "Branch='cse(ai and ml)'\n",
        "age=19\n",
        "friends=5\n",
        "sentence= 'hlo all, I am {0} of {1} studing {2} branch and i am still {3}. I have only {4} of my friends who are always with me'\n",
        "print(sentence.format(Name, College_name, Branch, age, friends))"
      ],
      "metadata": {
        "colab": {
          "base_uri": "https://localhost:8080/"
        },
        "id": "wvten0OnqGET",
        "outputId": "2a97210e-65b9-45e9-a6b0-9f333a7d916a"
      },
      "execution_count": null,
      "outputs": [
        {
          "output_type": "stream",
          "name": "stdout",
          "text": [
            "hlo all, I am D.Sanjay of GITAM studing cse(ai and ml) branch and i am still 19. I have only 5 of my friends who are always with me\n"
          ]
        }
      ]
    },
    {
      "cell_type": "markdown",
      "source": [
        "# Accept input from user and store it in variable and print the value."
      ],
      "metadata": {
        "id": "2c_6kqecBZhv"
      }
    },
    {
      "cell_type": "code",
      "source": [
        "A=int(input('Enter the number'))\n",
        "print(A)"
      ],
      "metadata": {
        "colab": {
          "base_uri": "https://localhost:8080/"
        },
        "id": "xwoAYwpkBhzd",
        "outputId": "feb8d03c-a8ad-4910-e121-839a8fa96eb1"
      },
      "execution_count": null,
      "outputs": [
        {
          "output_type": "stream",
          "name": "stdout",
          "text": [
            "Enter the number5\n",
            "5\n"
          ]
        }
      ]
    },
    {
      "cell_type": "markdown",
      "source": [
        "# x Use of print statements and use of (.format )for printing different data types."
      ],
      "metadata": {
        "id": "KXVMwr2pCXor"
      }
    },
    {
      "cell_type": "code",
      "source": [
        "a=int(input())\n",
        "b=float(input())\n",
        "c=bool(input())\n",
        "d=str(input())\n"
      ],
      "metadata": {
        "id": "KWUz9sDiWGUT"
      },
      "execution_count": null,
      "outputs": []
    },
    {
      "cell_type": "markdown",
      "source": [
        "# Take 2 numbers as user input and add, multiply, divide, subtract, remainder and print\n",
        "# the output (Same operations on floating point input as well)"
      ],
      "metadata": {
        "id": "201gc86_VPHb"
      }
    },
    {
      "cell_type": "code",
      "source": [
        "b=int(input('number1='))\n",
        "c=int(input('number2='))\n",
        "print('sum',b+c)\n",
        "print('sub',b-c)\n",
        "print('mult',b*c)\n",
        "print('power',b**c)\n",
        "print('div',b//c)\n",
        "print('division',b/c)"
      ],
      "metadata": {
        "colab": {
          "base_uri": "https://localhost:8080/"
        },
        "id": "rchqLYVtC3cP",
        "outputId": "7982bc10-ca00-4b86-ddcc-43ea579f2d66"
      },
      "execution_count": null,
      "outputs": [
        {
          "output_type": "stream",
          "name": "stdout",
          "text": [
            "number1=23\n",
            "number2=45\n",
            "sum 68\n",
            "sub -22\n",
            "mult 1035\n",
            "power 18956258430116202791319715713277227626159289499745290235663543\n",
            "div 0\n",
            "division 0.5111111111111111\n"
          ]
        }
      ]
    },
    {
      "cell_type": "markdown",
      "source": [
        "# Conversion of one unit to another (such as hours to minutes, miles to km and etc)"
      ],
      "metadata": {
        "id": "na4YmhbEWcWU"
      }
    },
    {
      "cell_type": "code",
      "source": [
        "Hour=int(input())\n",
        "minute=Hour*60\n",
        "print(minute,\"seconds\")\n",
        "second=minute*60\n",
        "print(second,\"minutes\")\n"
      ],
      "metadata": {
        "id": "bWFS_oNeWku7"
      },
      "execution_count": null,
      "outputs": []
    },
    {
      "cell_type": "markdown",
      "source": [
        "# Usage of mathematical functions in python like math.ceil, floor, fabs, fmod, trunc, pow, sqrt etc"
      ],
      "metadata": {
        "id": "MQ72oYzOnppT"
      }
    },
    {
      "cell_type": "code",
      "source": [
        "import math\n",
        "a=float(input())\n",
        "print(math.ceil(a))\n",
        "print(math.fabs(a))\n",
        "print(math.floor(a))\n",
        "print(math.sqrt(a))"
      ],
      "metadata": {
        "id": "BW6Qav5hnx7q"
      },
      "execution_count": null,
      "outputs": []
    },
    {
      "cell_type": "markdown",
      "source": [
        "# x Building a mathematical calculator that can perform operations according to user input."
      ],
      "metadata": {
        "id": "18uYxwD6n5Op"
      }
    },
    {
      "cell_type": "code",
      "source": [
        "a=int(input())\n",
        "b=int(input())\n",
        "c=str(input(\"enter the input\"))\n",
        "if c=='+':\n",
        "     print(a+b,\"sum\")\n",
        "elif c=='-':\n",
        "     print(a-b,\"sub\")\n",
        "elif c=='*':\n",
        "     print(a*b,\"mult\")\n",
        "else :\n",
        "     print(a/b,\"div\")"
      ],
      "metadata": {
        "id": "NGLVJahXn-oZ"
      },
      "execution_count": null,
      "outputs": []
    },
    {
      "cell_type": "markdown",
      "source": [
        "# Accepting 5 different subject marks from user and displaying the grade of the student.¶"
      ],
      "metadata": {
        "id": "Q9FrKyKZoCry"
      }
    },
    {
      "cell_type": "code",
      "source": [
        "tel=int(input())\n",
        "hin=int(input())\n",
        "eng=int(input())\n",
        "math=int(input())\n",
        "soc=int(input())\n",
        "avg=(tel+hin+eng+math+soc)/5\n",
        "if avg>=90:\n",
        "    print('A+ Grade')\n",
        "elif avg>=80 and avg<=90:\n",
        "    print('A Grade')\n",
        "elif avg>=70 and avg<=60:\n",
        "    print('B+ Grade')\n",
        "elif avg>=60 and avg<50:\n",
        "    print('B Grade')\n",
        "elif avg>=50 and avg<=40:\n",
        "    print('C Grade')\n",
        "elif avg>=40 and avg<=30:\n",
        "    print('D Grade')\n",
        "else:\n",
        "    print('Fail') \n"
      ],
      "metadata": {
        "id": "Sadh-vj_oJ8h",
        "colab": {
          "base_uri": "https://localhost:8080/"
        },
        "outputId": "3f0357bd-2078-4dae-d37a-ecf07538cde7"
      },
      "execution_count": 1,
      "outputs": [
        {
          "output_type": "stream",
          "name": "stdout",
          "text": [
            "47\n",
            "56\n",
            "76\n",
            "37\n",
            "91\n",
            "Fail\n"
          ]
        }
      ]
    },
    {
      "cell_type": "markdown",
      "source": [
        "# Printing all even numbers, odd numbers, count of even numbers, count of odd numbers within a given range.\n"
      ],
      "metadata": {
        "id": "2s5TSl1BV1gV"
      }
    },
    {
      "cell_type": "code",
      "source": [
        ""
      ],
      "metadata": {
        "id": "5NcN6bnUWFC9"
      },
      "execution_count": null,
      "outputs": []
    }
  ]
}