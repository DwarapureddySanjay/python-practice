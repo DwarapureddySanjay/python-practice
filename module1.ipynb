{
  "nbformat": 4,
  "nbformat_minor": 0,
  "metadata": {
    "colab": {
      "name": "module1.ipynb",
      "provenance": [],
      "collapsed_sections": [],
      "authorship_tag": "ABX9TyMFSz8Z4Ebr0yVSr9EkVQ0I",
      "include_colab_link": true
    },
    "kernelspec": {
      "name": "python3",
      "display_name": "Python 3"
    },
    "language_info": {
      "name": "python"
    }
  },
  "cells": [
    {
      "cell_type": "markdown",
      "metadata": {
        "id": "view-in-github",
        "colab_type": "text"
      },
      "source": [
        "<a href=\"https://colab.research.google.com/github/DwarapureddySanjay/python-practice/blob/main/module1.ipynb\" target=\"_parent\"><img src=\"https://colab.research.google.com/assets/colab-badge.svg\" alt=\"Open In Colab\"/></a>"
      ]
    },
    {
      "cell_type": "markdown",
      "source": [
        "# Accept input from user and store it in variable and print the value."
      ],
      "metadata": {
        "id": "2c_6kqecBZhv"
      }
    },
    {
      "cell_type": "code",
      "source": [
        "A=int(input('Enter the number'))\n",
        "print(A)"
      ],
      "metadata": {
        "colab": {
          "base_uri": "https://localhost:8080/"
        },
        "id": "xwoAYwpkBhzd",
        "outputId": "feb8d03c-a8ad-4910-e121-839a8fa96eb1"
      },
      "execution_count": null,
      "outputs": [
        {
          "output_type": "stream",
          "name": "stdout",
          "text": [
            "Enter the number5\n",
            "5\n"
          ]
        }
      ]
    },
    {
      "cell_type": "markdown",
      "source": [
        "# x Use of print statements and use of (.format )for printing different data types."
      ],
      "metadata": {
        "id": "KXVMwr2pCXor"
      }
    },
    {
      "cell_type": "code",
      "source": [
        "print('my {}')"
      ],
      "metadata": {
        "id": "KWUz9sDiWGUT",
        "outputId": "e7a85251-177f-47c0-ca7f-60c579f4c622",
        "colab": {
          "base_uri": "https://localhost:8080/"
        }
      },
      "execution_count": null,
      "outputs": [
        {
          "name": "stdout",
          "output_type": "stream",
          "text": [
            "20\n",
            "10\n",
            "10\n",
            "10\n"
          ]
        }
      ]
    },
    {
      "cell_type": "markdown",
      "source": [
        "# Take 2 numbers as user input and add, multiply, divide, subtract, remainder and print\n",
        "# the output (Same operations on floating point input as well)"
      ],
      "metadata": {
        "id": "201gc86_VPHb"
      }
    },
    {
      "cell_type": "code",
      "source": [
        "b=int(input('number1='))\n",
        "c=int(input('number2='))\n",
        "print('sum',b+c)\n",
        "print('sub',b-c)\n",
        "print('mult',b*c)\n",
        "print('power',b**c)\n",
        "print('div',b//c)\n",
        "print('division',b/c)"
      ],
      "metadata": {
        "colab": {
          "base_uri": "https://localhost:8080/"
        },
        "id": "rchqLYVtC3cP",
        "outputId": "7982bc10-ca00-4b86-ddcc-43ea579f2d66"
      },
      "execution_count": null,
      "outputs": [
        {
          "output_type": "stream",
          "name": "stdout",
          "text": [
            "number1=23\n",
            "number2=45\n",
            "sum 68\n",
            "sub -22\n",
            "mult 1035\n",
            "power 18956258430116202791319715713277227626159289499745290235663543\n",
            "div 0\n",
            "division 0.5111111111111111\n"
          ]
        }
      ]
    },
    {
      "cell_type": "markdown",
      "source": [
        "# Conversion of one unit to another (such as hours to minutes, miles to km and etc)"
      ],
      "metadata": {
        "id": "na4YmhbEWcWU"
      }
    },
    {
      "cell_type": "code",
      "source": [
        "Hour=int(input())\n",
        "minute=Hour*60\n",
        "print(minute,\"seconds\")\n",
        "second=minute*60\n",
        "print(second,\"minutes\")"
      ],
      "metadata": {
        "id": "bWFS_oNeWku7"
      },
      "execution_count": null,
      "outputs": []
    },
    {
      "cell_type": "markdown",
      "source": [
        "# Usage of mathematical functions in python like math.ceil, floor, fabs, fmod, trunc, pow, sqrt etc"
      ],
      "metadata": {
        "id": "MQ72oYzOnppT"
      }
    },
    {
      "cell_type": "code",
      "source": [
        "import math\n",
        "a=float(input())\n",
        "print(math.ceil(a))\n",
        "print(math.fabs(a))\n",
        "print(math.floor(a))\n",
        "print(math.sqrt(a))"
      ],
      "metadata": {
        "id": "BW6Qav5hnx7q",
        "colab": {
          "base_uri": "https://localhost:8080/"
        },
        "outputId": "f8e2d485-57cc-4257-edfc-a1472cf464d4"
      },
      "execution_count": null,
      "outputs": [
        {
          "output_type": "stream",
          "name": "stdout",
          "text": [
            "49.67\n",
            "50\n",
            "49.67\n",
            "49\n",
            "7.0476946585390605\n"
          ]
        }
      ]
    },
    {
      "cell_type": "markdown",
      "source": [
        "# x Building a mathematical calculator that can perform operations according to user input."
      ],
      "metadata": {
        "id": "18uYxwD6n5Op"
      }
    },
    {
      "cell_type": "code",
      "source": [
        "a=int(input())\n",
        "b=int(input())\n",
        "c=str(input(\"enter the input\"))\n",
        "if c=='+':\n",
        "     print(a+b,\"sum\")\n",
        "elif c=='-':\n",
        "     print(a-b,\"sub\")\n",
        "elif c=='*':\n",
        "     print(a*b,\"mult\")\n",
        "else :\n",
        "     print(a/b,\"div\")"
      ],
      "metadata": {
        "id": "NGLVJahXn-oZ"
      },
      "execution_count": null,
      "outputs": []
    },
    {
      "cell_type": "markdown",
      "source": [
        "# Accepting 5 different subject marks from user and displaying the grade of the student.¶"
      ],
      "metadata": {
        "id": "Q9FrKyKZoCry"
      }
    },
    {
      "cell_type": "code",
      "source": [
        "tel=int(input())\n",
        "hin=int(input())\n",
        "eng=int(input())\n",
        "math=int(input())\n",
        "soc=int(input())\n",
        "avg=(tel+hin+eng+math+soc)/5\n",
        "if avg>=90:\n",
        "    print('A+ Grade')\n",
        "elif avg<=80 and avg>=90:\n",
        "    print('A Grade')\n",
        "elif avg<=70 and avg>=60:\n",
        "    print('B+ Grade')\n",
        "elif avg<=60 and avg>50:\n",
        "    print('B Grade')\n",
        "elif avg<=50 and avg>=40:\n",
        "    print('C Grade')\n",
        "elif avg<=40 and avg>=30:\n",
        "    print('D Grade')\n",
        "else:\n",
        "    print('Fail') \n"
      ],
      "metadata": {
        "id": "Sadh-vj_oJ8h",
        "colab": {
          "base_uri": "https://localhost:8080/"
        },
        "outputId": "81126c62-220a-494f-aca1-3c668b0e0da9"
      },
      "execution_count": null,
      "outputs": [
        {
          "output_type": "stream",
          "name": "stdout",
          "text": [
            "41\n",
            "37\n",
            "91\n",
            "85\n",
            "44\n",
            "B Grade\n"
          ]
        }
      ]
    },
    {
      "cell_type": "markdown",
      "source": [
        "# Printing all even numbers, odd numbers, count of even numbers, count of odd numbers within a given range.\n"
      ],
      "metadata": {
        "id": "2s5TSl1BV1gV"
      }
    },
    {
      "cell_type": "code",
      "source": [
        "a = int(input(\"enter the from range :\"))\n",
        "b = int(input(\"enter the to range :\"))\n",
        "count = 0\n",
        "for i in range(a,b):\n",
        " if i % 2 == 0:\n",
        "   count += 1\n",
        "   print(i)\n",
        "print('count of even numbers is', count)\n",
        "count = 0\n",
        "for x in range(a,b):\n",
        "  if x % 2 == 1:\n",
        "    print(x)\n",
        "    count += 1\n",
        "print('count of odd numbers', count)"
      ],
      "metadata": {
        "id": "5NcN6bnUWFC9",
        "colab": {
          "base_uri": "https://localhost:8080/"
        },
        "outputId": "e6ac607d-bc1a-47c9-ea68-4a419706a636"
      },
      "execution_count": null,
      "outputs": [
        {
          "output_type": "stream",
          "name": "stdout",
          "text": [
            "enter the from range :1\n",
            "enter the to range :20\n",
            "2\n",
            "4\n",
            "6\n",
            "8\n",
            "10\n",
            "12\n",
            "14\n",
            "16\n",
            "18\n",
            "count of even numbers is 9\n",
            "1\n",
            "3\n",
            "5\n",
            "7\n",
            "9\n",
            "11\n",
            "13\n",
            "15\n",
            "17\n",
            "19\n",
            "count of odd numbers 10\n"
          ]
        }
      ]
    },
    {
      "cell_type": "markdown",
      "source": [
        "# Compute the factorial of a given number."
      ],
      "metadata": {
        "id": "U3dvTkxD55K-"
      }
    },
    {
      "cell_type": "code",
      "source": [
        "import math \n",
        "a=int(input('enter the number'))\n",
        "print(\"factorial of a=\",math.factorial(a))"
      ],
      "metadata": {
        "colab": {
          "base_uri": "https://localhost:8080/"
        },
        "id": "98uIZzIM6DNt",
        "outputId": "1a5f5f7c-96d3-4c1b-b9c0-245e97d18813"
      },
      "execution_count": null,
      "outputs": [
        {
          "output_type": "stream",
          "name": "stdout",
          "text": [
            "enter the number5\n",
            "factorial of a= 120\n"
          ]
        }
      ]
    },
    {
      "cell_type": "markdown",
      "source": [
        "# Compute GCD of two given numbers."
      ],
      "metadata": {
        "id": "RDF1s84i7TFt"
      }
    },
    {
      "cell_type": "code",
      "source": [
        "a=int(input('enter the first number'))\n",
        "b=int(input('enter the second number'))\n",
        "print(\"GCD of a and b=\",math.gcd(a,b))"
      ],
      "metadata": {
        "colab": {
          "base_uri": "https://localhost:8080/"
        },
        "id": "dVnK_AsJ7doQ",
        "outputId": "4a8fc24b-179d-40f0-a780-a3718753c5c9"
      },
      "execution_count": null,
      "outputs": [
        {
          "output_type": "stream",
          "name": "stdout",
          "text": [
            "enter the first number4\n",
            "enter the second number8\n",
            "GCD of a and b= 4\n"
          ]
        }
      ]
    },
    {
      "cell_type": "markdown",
      "source": [
        "#  Generate Fibonacci series up to N numbers."
      ],
      "metadata": {
        "id": "kcty20E98CgH"
      }
    },
    {
      "cell_type": "code",
      "source": [
        "x = int(input(\"enter the nth number\"))\n",
        "n1, n2 = 0, 1\n",
        "count = 0\n",
        "if x <= 0:\n",
        "   print(\"invalid\")\n",
        "elif x == 1:\n",
        "   print(\"Fibonacci sequence upto\",x)\n",
        "   print(n1)\n",
        "else:\n",
        "   print(\"Fibonacci sequence:\")\n",
        "   while count <= x:\n",
        "       print(n1)\n",
        "       nth = n1 + n2\n",
        "       n1 = n2\n",
        "       n2 = nth\n",
        "       count += 1"
      ],
      "metadata": {
        "colab": {
          "base_uri": "https://localhost:8080/"
        },
        "id": "2o2GKTJro4jP",
        "outputId": "fc83a780-c108-4d5d-9985-0767623dea16"
      },
      "execution_count": null,
      "outputs": [
        {
          "output_type": "stream",
          "name": "stdout",
          "text": [
            "enter the nth number10\n",
            "Fibonacci sequence:\n",
            "0\n",
            "1\n",
            "1\n",
            "2\n",
            "3\n",
            "5\n",
            "8\n",
            "13\n",
            "21\n",
            "34\n",
            "55\n"
          ]
        }
      ]
    },
    {
      "cell_type": "code",
      "source": [
        "a=1\n",
        "b=3\n",
        "c=4\n",
        "a=b\n",
        "b=c\n",
        "c=a\n",
        "print(a,b,c)"
      ],
      "metadata": {
        "colab": {
          "base_uri": "https://localhost:8080/"
        },
        "id": "_UgB1SXKTeiS",
        "outputId": "eec3a3cd-79c1-4e44-faac-819f84873941"
      },
      "execution_count": 1,
      "outputs": [
        {
          "output_type": "stream",
          "name": "stdout",
          "text": [
            "3 4 3\n"
          ]
        }
      ]
    },
    {
      "cell_type": "markdown",
      "source": [
        "# Check whether the given input is a) palindrome b) strong c) perfect"
      ],
      "metadata": {
        "id": "YtfqTbhq8g4H"
      }
    },
    {
      "cell_type": "code",
      "source": [
        "import math\n",
        "n = int(input(\"enter a number :\"))#141\n",
        "num = n\n",
        "rev_num = 0\n",
        "while num > 0:\n",
        " rev_num = rev_num * 10 + num % 10\n",
        " num = num // 10\n",
        "if rev_num == n:\n",
        "  print(\"Given input is palindrome \")\n",
        "else:\n",
        "  print(\"not a palindrome\")"
      ],
      "metadata": {
        "colab": {
          "base_uri": "https://localhost:8080/"
        },
        "id": "sc_98DEq9fV2",
        "outputId": "8bc5efd5-4738-4e13-b2c9-f731cecdc281"
      },
      "execution_count": null,
      "outputs": [
        {
          "output_type": "stream",
          "name": "stdout",
          "text": [
            "enter a number :121\n",
            "Given input is palindrome \n"
          ]
        }
      ]
    },
    {
      "cell_type": "markdown",
      "source": [
        "# Check whether the given input is strong. "
      ],
      "metadata": {
        "id": "6bXzMp1Q_MjO"
      }
    },
    {
      "cell_type": "code",
      "source": [
        "import math\n",
        "n=int(input('enter the input'))#146\n",
        "s = 0\n",
        "z = n\n",
        "sum = 0\n",
        "while (z > 0):\n",
        " s = z % 10\n",
        " sum = sum + (math.factorial(s))#factor of 6=1,2,3 #1+2+3=6 #it is strong number\n",
        " z = z // 10\n",
        "if sum == n:\n",
        "  print(\"it is a strong number\")\n",
        "else:\n",
        " print(\"not a strong number\")"
      ],
      "metadata": {
        "colab": {
          "base_uri": "https://localhost:8080/"
        },
        "id": "BQkx8AQ-_oR1",
        "outputId": "a2dd6405-610b-4de7-a5c6-81b23b820e4d"
      },
      "execution_count": 3,
      "outputs": [
        {
          "output_type": "stream",
          "name": "stdout",
          "text": [
            "enter the input146\n",
            "not a strong number\n"
          ]
        }
      ]
    },
    {
      "cell_type": "markdown",
      "source": [
        "# Check whether the given input is perfect"
      ],
      "metadata": {
        "id": "KnOlc5tpAP3s"
      }
    },
    {
      "cell_type": "code",
      "source": [
        "n=int(input('enter the input'))\n",
        "sm=0\n",
        "for i in range(1,n):\n",
        "  rem=n%i\n",
        "  if rem==0:\n",
        "    sm=sm+i\n",
        "if (sm==n):\n",
        "  print(\"it is a perfect number\")\n",
        "else:\n",
        "  print(\"it is not a perfect number\")"
      ],
      "metadata": {
        "colab": {
          "base_uri": "https://localhost:8080/"
        },
        "id": "DdkDRfRUAar1",
        "outputId": "fcfa1812-6ba3-4cce-8770-ed6695831885"
      },
      "execution_count": 5,
      "outputs": [
        {
          "output_type": "stream",
          "name": "stdout",
          "text": [
            "enter the input6\n",
            "it is a perfect number\n"
          ]
        }
      ]
    },
    {
      "cell_type": "markdown",
      "source": [
        "# Compute compound interest using loop for a certain principal and interest amount"
      ],
      "metadata": {
        "id": "H32zry7FQXvz"
      }
    },
    {
      "cell_type": "code",
      "source": [
        "n=int(input('Enter the principle amount'))\n",
        "r=int(input(\"Enter the rate:\"))\n",
        "y=int(input(\"Enter the number of years:\"))\n",
        "for i in range(y):\n",
        "    n=n+((n*r)/100)\n",
        "print(n)"
      ],
      "metadata": {
        "colab": {
          "base_uri": "https://localhost:8080/"
        },
        "id": "mX1F7JkkQec7",
        "outputId": "2ea09229-df3b-45a4-a5ed-5bf5cb792f95"
      },
      "execution_count": null,
      "outputs": [
        {
          "output_type": "stream",
          "name": "stdout",
          "text": [
            "Enter the principle amount4500\n",
            "Enter the rate:20\n",
            "Enter the number of years:6\n",
            "13436.928\n"
          ]
        }
      ]
    }
  ]
}