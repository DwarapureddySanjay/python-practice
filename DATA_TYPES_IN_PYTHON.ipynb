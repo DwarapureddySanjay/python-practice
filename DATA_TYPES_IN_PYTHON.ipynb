{
  "cells": [
    {
      "cell_type": "markdown",
      "metadata": {
        "id": "view-in-github",
        "colab_type": "text"
      },
      "source": [
        "<a href=\"https://colab.research.google.com/github/DwarapureddySanjay/python-practice/blob/main/DATA_TYPES_IN_PYTHON.ipynb\" target=\"_parent\"><img src=\"https://colab.research.google.com/assets/colab-badge.svg\" alt=\"Open In Colab\"/></a>"
      ]
    },
    {
      "cell_type": "markdown",
      "id": "a7df7a33",
      "metadata": {
        "id": "a7df7a33"
      },
      "source": [
        "# CONVERTING INT TO STRING, FLOAT, BOOLEAN, COMPLEX"
      ]
    },
    {
      "cell_type": "code",
      "execution_count": null,
      "id": "7f0bcfbe",
      "metadata": {
        "id": "7f0bcfbe",
        "outputId": "8bf7f8b9-f344-4031-d66d-f24bd43860ab"
      },
      "outputs": [
        {
          "name": "stdout",
          "output_type": "stream",
          "text": [
            "10\n",
            "<class 'int'>\n",
            "10\n",
            "<class 'str'>\n",
            "10.0\n",
            "<class 'float'>\n",
            "True\n",
            "<class 'bool'>\n",
            "(10+0j)\n",
            "<class 'complex'>\n"
          ]
        }
      ],
      "source": [
        "a=10\n",
        "print(a)\n",
        "# before convertion\n",
        "print(type(a))\n",
        "b=str(a)\n",
        "print(b)\n",
        "# after convertion\n",
        "print(type(b))\n",
        "c=float(a)\n",
        "print(c)\n",
        "# after convertion\n",
        "print(type(c))\n",
        "d=bool(a)\n",
        "print(d)\n",
        "# after convertion\n",
        "print(type(d))\n",
        "e=complex(a)\n",
        "print(e)\n",
        "# after convertion\n",
        "print(type(e))"
      ]
    },
    {
      "cell_type": "markdown",
      "id": "43fe1fc4",
      "metadata": {
        "id": "43fe1fc4"
      },
      "source": [
        "# converting string to int, float, boolean, complex\n"
      ]
    },
    {
      "cell_type": "code",
      "execution_count": null,
      "id": "7af5039a",
      "metadata": {
        "id": "7af5039a",
        "outputId": "a61681d0-157b-45ac-c1cd-e33b26a94526"
      },
      "outputs": [
        {
          "name": "stdout",
          "output_type": "stream",
          "text": [
            "4\n",
            "<class 'int'>\n",
            "4.0\n",
            "<class 'float'>\n",
            "True\n",
            "<class 'bool'>\n",
            "(4+0j)\n",
            "<class 'complex'>\n"
          ]
        }
      ],
      "source": [
        "a=4\n",
        "print(a)\n",
        "# before conversion\n",
        "b=int(a)\n",
        "# after conversion\n",
        "print(type(b))\n",
        "c=float(a)\n",
        "print(c)\n",
        "print(type(c))\n",
        "d=bool(a)\n",
        "print(d)\n",
        "print(type(d))\n",
        "e=complex(a)\n",
        "print(e)\n",
        "print(type(e))\n",
        "# NOTE : Can't convert alphabets into integers.\n",
        "# instead of alphabets give digits."
      ]
    },
    {
      "cell_type": "markdown",
      "id": "53ccf41a",
      "metadata": {
        "id": "53ccf41a"
      },
      "source": [
        "# converting float to int, string, boolen, complex"
      ]
    },
    {
      "cell_type": "code",
      "execution_count": null,
      "id": "85628953",
      "metadata": {
        "id": "85628953",
        "outputId": "960c0680-00e9-4b1f-dc76-63e1b57b9dc6"
      },
      "outputs": [
        {
          "name": "stdout",
          "output_type": "stream",
          "text": [
            "4.0\n",
            "<class 'int'>\n",
            "4.0\n",
            "<class 'str'>\n",
            "True\n",
            "<class 'bool'>\n",
            "(4+0j)\n",
            "<class 'complex'>\n"
          ]
        }
      ],
      "source": [
        "a=4.0\n",
        "print(a)\n",
        "# before conversion\n",
        "b=int(a)\n",
        "# after conversion\n",
        "print(type(b))\n",
        "c=str(a)\n",
        "print(c)\n",
        "print(type(c))\n",
        "d=bool(a)\n",
        "print(d)\n",
        "print(type(d))\n",
        "e=complex(a)\n",
        "print(e)\n",
        "print(type(e))"
      ]
    },
    {
      "cell_type": "markdown",
      "id": "84576d9e",
      "metadata": {
        "id": "84576d9e"
      },
      "source": [
        "# CONVERTING BOOLEN TO INT, STRING, FLOAT, COMPLEX"
      ]
    },
    {
      "cell_type": "code",
      "execution_count": null,
      "id": "84523f56",
      "metadata": {
        "id": "84523f56",
        "outputId": "180aab5d-abe7-4d5e-f0e1-5a277b4dced4"
      },
      "outputs": [
        {
          "name": "stdout",
          "output_type": "stream",
          "text": [
            "True\n",
            "<class 'int'>\n",
            "True\n",
            "<class 'str'>\n",
            "1.0\n",
            "<class 'float'>\n",
            "(1+0j)\n",
            "<class 'complex'>\n"
          ]
        }
      ],
      "source": [
        "a=True\n",
        "print(a)\n",
        "# before conversion\n",
        "b=int(a)\n",
        "# after conversion\n",
        "print(type(b))\n",
        "c=str(a)\n",
        "print(c)\n",
        "print(type(c))\n",
        "d=float(a)\n",
        "print(d)\n",
        "print(type(d))\n",
        "e=complex(a)\n",
        "print(e)\n",
        "print(type(e))"
      ]
    },
    {
      "cell_type": "markdown",
      "id": "2df481ee",
      "metadata": {
        "id": "2df481ee"
      },
      "source": [
        "# CONVERTING COMPLEX TO INT, FLOAT, STRING, BOOLEAN"
      ]
    },
    {
      "cell_type": "code",
      "execution_count": null,
      "id": "3ab2c7bb",
      "metadata": {
        "id": "3ab2c7bb",
        "outputId": "6e7d1aaf-20a4-4c01-953d-4f08e7fb3271"
      },
      "outputs": [
        {
          "name": "stdout",
          "output_type": "stream",
          "text": [
            "(5+0j)\n",
            "(5+0j)\n",
            "<class 'str'>\n",
            "True\n",
            "<class 'bool'>\n"
          ]
        }
      ],
      "source": [
        "a=5+0j\n",
        "print(a)\n",
        "# b=int(a)\n",
        "# print(b)\n",
        "# print(type(b))\n",
        "# can't convert complex to integer.\n",
        "# c=float(a)\n",
        "# print(c)\n",
        "# print(type(c))\n",
        "# can't convert complex to float.\n",
        "d=str(a)\n",
        "print(d)\n",
        "print(type(d))\n",
        "e=bool(a)\n",
        "print(e)\n",
        "print(type(e))\n",
        "# NOTE : Can't convert complex to integer, float."
      ]
    },
    {
      "cell_type": "code",
      "execution_count": null,
      "id": "08c44723",
      "metadata": {
        "id": "08c44723"
      },
      "outputs": [],
      "source": [
        ""
      ]
    }
  ],
  "metadata": {
    "kernelspec": {
      "display_name": "Python 3 (ipykernel)",
      "language": "python",
      "name": "python3"
    },
    "language_info": {
      "codemirror_mode": {
        "name": "ipython",
        "version": 3
      },
      "file_extension": ".py",
      "mimetype": "text/x-python",
      "name": "python",
      "nbconvert_exporter": "python",
      "pygments_lexer": "ipython3",
      "version": "3.9.7"
    },
    "colab": {
      "name": "DATA TYPES IN PYTHON.ipynb",
      "provenance": [],
      "include_colab_link": true
    }
  },
  "nbformat": 4,
  "nbformat_minor": 5
}