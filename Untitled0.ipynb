{
  "nbformat": 4,
  "nbformat_minor": 0,
  "metadata": {
    "colab": {
      "name": "Untitled0.ipynb",
      "provenance": [],
      "authorship_tag": "ABX9TyP9fAH4bpI2dhcX07zeCgmC",
      "include_colab_link": true
    },
    "kernelspec": {
      "name": "python3",
      "display_name": "Python 3"
    },
    "language_info": {
      "name": "python"
    }
  },
  "cells": [
    {
      "cell_type": "markdown",
      "metadata": {
        "id": "view-in-github",
        "colab_type": "text"
      },
      "source": [
        "<a href=\"https://colab.research.google.com/github/DwarapureddySanjay/python-practice/blob/main/Untitled0.ipynb\" target=\"_parent\"><img src=\"https://colab.research.google.com/assets/colab-badge.svg\" alt=\"Open In Colab\"/></a>"
      ]
    },
    {
      "cell_type": "markdown",
      "source": [
        "# Write a program to print prime numbers in given range by using function[25-50]"
      ],
      "metadata": {
        "id": "3XnggKDsZ78q"
      }
    },
    {
      "cell_type": "code",
      "source": [
        "def prime(a,b):\n",
        "  for i in range (a,b+1) :\n",
        "     k=0\n",
        "     for j in range(2,i):\n",
        "       if(i%j==0):\n",
        "         k=k+1\n",
        "       if k==0:\n",
        "         print(i)\n",
        "prime(25,50)"
      ],
      "metadata": {
        "colab": {
          "base_uri": "https://localhost:8080/"
        },
        "id": "kSHleir6dNeC",
        "outputId": "37405c39-0b26-43d3-eea8-f1e74fa9faba"
      },
      "execution_count": 35,
      "outputs": [
        {
          "output_type": "stream",
          "name": "stdout",
          "text": [
            "25\n",
            "25\n",
            "25\n",
            "27\n",
            "29\n",
            "29\n",
            "29\n",
            "29\n",
            "29\n",
            "29\n",
            "29\n",
            "29\n",
            "29\n",
            "29\n",
            "29\n",
            "29\n",
            "29\n",
            "29\n",
            "29\n",
            "29\n",
            "29\n",
            "29\n",
            "29\n",
            "29\n",
            "29\n",
            "29\n",
            "29\n",
            "29\n",
            "29\n",
            "29\n",
            "29\n",
            "31\n",
            "31\n",
            "31\n",
            "31\n",
            "31\n",
            "31\n",
            "31\n",
            "31\n",
            "31\n",
            "31\n",
            "31\n",
            "31\n",
            "31\n",
            "31\n",
            "31\n",
            "31\n",
            "31\n",
            "31\n",
            "31\n",
            "31\n",
            "31\n",
            "31\n",
            "31\n",
            "31\n",
            "31\n",
            "31\n",
            "31\n",
            "31\n",
            "31\n",
            "33\n",
            "35\n",
            "35\n",
            "35\n",
            "37\n",
            "37\n",
            "37\n",
            "37\n",
            "37\n",
            "37\n",
            "37\n",
            "37\n",
            "37\n",
            "37\n",
            "37\n",
            "37\n",
            "37\n",
            "37\n",
            "37\n",
            "37\n",
            "37\n",
            "37\n",
            "37\n",
            "37\n",
            "37\n",
            "37\n",
            "37\n",
            "37\n",
            "37\n",
            "37\n",
            "37\n",
            "37\n",
            "37\n",
            "37\n",
            "37\n",
            "37\n",
            "37\n",
            "37\n",
            "37\n",
            "39\n",
            "41\n",
            "41\n",
            "41\n",
            "41\n",
            "41\n",
            "41\n",
            "41\n",
            "41\n",
            "41\n",
            "41\n",
            "41\n",
            "41\n",
            "41\n",
            "41\n",
            "41\n",
            "41\n",
            "41\n",
            "41\n",
            "41\n",
            "41\n",
            "41\n",
            "41\n",
            "41\n",
            "41\n",
            "41\n",
            "41\n",
            "41\n",
            "41\n",
            "41\n",
            "41\n",
            "41\n",
            "41\n",
            "41\n",
            "41\n",
            "41\n",
            "41\n",
            "41\n",
            "41\n",
            "41\n",
            "43\n",
            "43\n",
            "43\n",
            "43\n",
            "43\n",
            "43\n",
            "43\n",
            "43\n",
            "43\n",
            "43\n",
            "43\n",
            "43\n",
            "43\n",
            "43\n",
            "43\n",
            "43\n",
            "43\n",
            "43\n",
            "43\n",
            "43\n",
            "43\n",
            "43\n",
            "43\n",
            "43\n",
            "43\n",
            "43\n",
            "43\n",
            "43\n",
            "43\n",
            "43\n",
            "43\n",
            "43\n",
            "43\n",
            "43\n",
            "43\n",
            "43\n",
            "43\n",
            "43\n",
            "43\n",
            "43\n",
            "43\n",
            "45\n",
            "47\n",
            "47\n",
            "47\n",
            "47\n",
            "47\n",
            "47\n",
            "47\n",
            "47\n",
            "47\n",
            "47\n",
            "47\n",
            "47\n",
            "47\n",
            "47\n",
            "47\n",
            "47\n",
            "47\n",
            "47\n",
            "47\n",
            "47\n",
            "47\n",
            "47\n",
            "47\n",
            "47\n",
            "47\n",
            "47\n",
            "47\n",
            "47\n",
            "47\n",
            "47\n",
            "47\n",
            "47\n",
            "47\n",
            "47\n",
            "47\n",
            "47\n",
            "47\n",
            "47\n",
            "47\n",
            "47\n",
            "47\n",
            "47\n",
            "47\n",
            "47\n",
            "47\n",
            "49\n",
            "49\n",
            "49\n",
            "49\n",
            "49\n"
          ]
        }
      ]
    },
    {
      "cell_type": "markdown",
      "source": [
        "# Write a program to read any month in integer and display days for that month "
      ],
      "metadata": {
        "id": "DoREsbrWaPpK"
      }
    },
    {
      "cell_type": "code",
      "source": [
        "n=int(input())\n",
        "if (n>=1 or n<=12):\n",
        "  if (n==1 or n==3 or n==5 or n==7 or n==8 or n==10 or n==12):\n",
        "    print('the month is having 31 days')\n",
        "  elif(n==2):\n",
        "    print('the month is having 28 days')\n",
        "  else:\n",
        "    print('the month is having 30 days')\n",
        "else:\n",
        "  print('not a month')"
      ],
      "metadata": {
        "colab": {
          "base_uri": "https://localhost:8080/"
        },
        "id": "XOwO__2sfrCa",
        "outputId": "bbb1cabe-852a-4405-f339-ecd23000ce4b"
      },
      "execution_count": 13,
      "outputs": [
        {
          "output_type": "stream",
          "name": "stdout",
          "text": [
            "8\n",
            "the month is having 31 days\n"
          ]
        }
      ]
    },
    {
      "cell_type": "markdown",
      "source": [
        "# Write a python program to print even length words in a string (in (this is a python class)) print only this, python, is."
      ],
      "metadata": {
        "id": "GOZHJURWanMZ"
      }
    },
    {
      "cell_type": "code",
      "source": [
        "n=str(input())\n",
        "n=n.split(' ')\n",
        "for x in n:\n",
        "  if len(x)%2==0:\n",
        "    print(x)"
      ],
      "metadata": {
        "colab": {
          "base_uri": "https://localhost:8080/"
        },
        "id": "bMgErB85m1Yo",
        "outputId": "a34b7d33-458b-4644-e001-dfd4491cf64e"
      },
      "execution_count": 23,
      "outputs": [
        {
          "output_type": "stream",
          "name": "stdout",
          "text": [
            "this is my laptop y\n",
            "this\n",
            "is\n",
            "my\n",
            "laptop\n"
          ]
        }
      ]
    },
    {
      "cell_type": "markdown",
      "source": [
        "# a)Write a python program to capitalise the 1st and last letter of each word\n",
        "#  b) Write a program to read a string from user display first character of each word with capital letter"
      ],
      "metadata": {
        "id": "8HmEYwQhbOSB"
      }
    },
    {
      "cell_type": "code",
      "source": [
        "# a) \n",
        "n=str(input('Enter the string'))\n",
        "b=n.split(' ')\n",
        "n=''\n",
        "for i in b:\n",
        "  x=i([0].capitalize())\n",
        "  y=i([-1].capitalize())\n",
        "  n="
      ],
      "metadata": {
        "colab": {
          "base_uri": "https://localhost:8080/"
        },
        "id": "EfG6rpwjryNf",
        "outputId": "2b3ab3c6-04b5-4b4a-9d91-c35f12cb3d70"
      },
      "execution_count": 33,
      "outputs": [
        {
          "output_type": "stream",
          "name": "stdout",
          "text": [
            "Enter the stringthe exam is postponed\n",
            "The\n",
            "Exam\n",
            "Is\n",
            "Postponed\n"
          ]
        }
      ]
    },
    {
      "cell_type": "code",
      "source": [
        "# b)\n",
        "n='this is my computer'\n",
        "print(len(n))\n",
        "print(n.upper())"
      ],
      "metadata": {
        "colab": {
          "base_uri": "https://localhost:8080/"
        },
        "id": "AxhR1UYUqlgJ",
        "outputId": "25922c90-e788-4f6f-e4a9-da43c2f4d66c"
      },
      "execution_count": 28,
      "outputs": [
        {
          "output_type": "stream",
          "name": "stdout",
          "text": [
            "19\n",
            "THIS IS MY COMPUTER\n"
          ]
        }
      ]
    },
    {
      "cell_type": "markdown",
      "source": [
        "# Write a python program to convert a list of multiple integers into a string.\n",
        "# input [11,33,59] output [113359]"
      ],
      "metadata": {
        "id": "_oTvLD7FcAGq"
      }
    },
    {
      "cell_type": "code",
      "source": [
        ""
      ],
      "metadata": {
        "id": "DBQIJM0JcdX7"
      },
      "execution_count": null,
      "outputs": []
    }
  ]
}