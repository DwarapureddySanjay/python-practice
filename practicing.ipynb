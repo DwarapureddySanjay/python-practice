{
  "nbformat": 4,
  "nbformat_minor": 0,
  "metadata": {
    "colab": {
      "name": "practicing.ipynb",
      "provenance": [],
      "authorship_tag": "ABX9TyPdss8ZAsoNJf8QhRjy9/2Q",
      "include_colab_link": true
    },
    "kernelspec": {
      "name": "python3",
      "display_name": "Python 3"
    },
    "language_info": {
      "name": "python"
    }
  },
  "cells": [
    {
      "cell_type": "markdown",
      "metadata": {
        "id": "view-in-github",
        "colab_type": "text"
      },
      "source": [
        "<a href=\"https://colab.research.google.com/github/DwarapureddySanjay/python-practice/blob/main/practicing.ipynb\" target=\"_parent\"><img src=\"https://colab.research.google.com/assets/colab-badge.svg\" alt=\"Open In Colab\"/></a>"
      ]
    },
    {
      "cell_type": "code",
      "execution_count": null,
      "metadata": {
        "id": "IE457j337-0x",
        "colab": {
          "base_uri": "https://localhost:8080/"
        },
        "outputId": "5a67721d-d785-4a3d-bc62-ac1510ca2e2b"
      },
      "outputs": [
        {
          "output_type": "stream",
          "name": "stdout",
          "text": [
            "zpple znd bznznz\n",
            "['ramesh', 'suresh']\n"
          ]
        }
      ],
      "source": [
        "fruits= 'apple and banana'\n",
        "print(fruits.replace('a','z'))\n",
        "names= 'ramesh suresh'\n",
        "print(names.split(' '))"
      ]
    },
    {
      "cell_type": "markdown",
      "source": [
        "MY DETAILS"
      ],
      "metadata": {
        "id": "pGdfXhy1qADP"
      }
    },
    {
      "cell_type": "code",
      "source": [
        "Name='D.Sanjay'\n",
        "College_name='GITAM'\n",
        "Branch='cse(ai and ml)'\n",
        "age=19\n",
        "friends=5\n",
        "sentence= 'hlo all, I am {0} of {1} studing {2} branch and i am still {3}. I have only {4} of my friends who are always with me'\n",
        "print(sentence.format(Name, College_name, Branch, age, friends))"
      ],
      "metadata": {
        "colab": {
          "base_uri": "https://localhost:8080/"
        },
        "id": "wvten0OnqGET",
        "outputId": "2a97210e-65b9-45e9-a6b0-9f333a7d916a"
      },
      "execution_count": null,
      "outputs": [
        {
          "output_type": "stream",
          "name": "stdout",
          "text": [
            "hlo all, I am D.Sanjay of GITAM studing cse(ai and ml) branch and i am still 19. I have only 5 of my friends who are always with me\n"
          ]
        }
      ]
    },
    {
      "cell_type": "markdown",
      "source": [
        "# Accept input from user and store it in variable and print the value."
      ],
      "metadata": {
        "id": "2c_6kqecBZhv"
      }
    },
    {
      "cell_type": "code",
      "source": [
        "A=int(input('Enter the number'))\n",
        "print(A)"
      ],
      "metadata": {
        "colab": {
          "base_uri": "https://localhost:8080/"
        },
        "id": "xwoAYwpkBhzd",
        "outputId": "feb8d03c-a8ad-4910-e121-839a8fa96eb1"
      },
      "execution_count": null,
      "outputs": [
        {
          "output_type": "stream",
          "name": "stdout",
          "text": [
            "Enter the number5\n",
            "5\n"
          ]
        }
      ]
    },
    {
      "cell_type": "markdown",
      "source": [
        "# x Use of print statements and use of (.format )for printing different data types."
      ],
      "metadata": {
        "id": "KXVMwr2pCXor"
      }
    },
    {
      "cell_type": "code",
      "source": [
        "a=5\n",
        "print(\"a=\",a)\n",
        "b=int(input('number1'))\n",
        "c=int(input('number2'))\n",
        "print('sum',b+c)\n",
        "print('sub',b-c)\n",
        "print('mult',b*c)\n",
        "print('power',b**c)\n",
        "print('div',b//c)\n",
        "print('division',b/c)"
      ],
      "metadata": {
        "colab": {
          "base_uri": "https://localhost:8080/"
        },
        "id": "rchqLYVtC3cP",
        "outputId": "32bf2195-6a88-4f18-a765-54dbfc99ff83"
      },
      "execution_count": null,
      "outputs": [
        {
          "output_type": "stream",
          "name": "stdout",
          "text": [
            "a= 5\n",
            "number112\n",
            "number24\n",
            "sum 16\n",
            "sub 8\n",
            "mult 48\n",
            "power 20736\n",
            "div 3\n",
            "division 3.0\n"
          ]
        }
      ]
    },
    {
      "cell_type": "code",
      "source": [
        "a='123'\n",
        "b='rrr'\n",
        "c=a + b\n",
        "print(c)"
      ],
      "metadata": {
        "colab": {
          "base_uri": "https://localhost:8080/"
        },
        "id": "Gzn9mQzVJ5gE",
        "outputId": "c0d021ae-f085-454b-ac10-6821368506f1"
      },
      "execution_count": 1,
      "outputs": [
        {
          "output_type": "stream",
          "name": "stdout",
          "text": [
            "123rrr\n"
          ]
        }
      ]
    }
  ]
}