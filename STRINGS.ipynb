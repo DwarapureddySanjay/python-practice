{
  "nbformat": 4,
  "nbformat_minor": 0,
  "metadata": {
    "colab": {
      "name": "STRINGS.ipynb",
      "provenance": [],
      "authorship_tag": "ABX9TyN5Y61uxbBwYCT7K+tybJox",
      "include_colab_link": true
    },
    "kernelspec": {
      "name": "python3",
      "display_name": "Python 3"
    },
    "language_info": {
      "name": "python"
    }
  },
  "cells": [
    {
      "cell_type": "markdown",
      "metadata": {
        "id": "view-in-github",
        "colab_type": "text"
      },
      "source": [
        "<a href=\"https://colab.research.google.com/github/DwarapureddySanjay/python-practice/blob/main/STRINGS.ipynb\" target=\"_parent\"><img src=\"https://colab.research.google.com/assets/colab-badge.svg\" alt=\"Open In Colab\"/></a>"
      ]
    },
    {
      "cell_type": "markdown",
      "source": [
        "# FORMAT OF string"
      ],
      "metadata": {
        "id": "hSbzwfHFN5cr"
      }
    },
    {
      "cell_type": "code",
      "source": [
        "Name='D.Sanjay'\n",
        "branch='cse(ai & ml)'\n",
        "location='nad'\n",
        "sentence='i am {} of {} branch \\ooo i stay at {}'\n",
        "print(sentence.format(Name,branch,location))"
      ],
      "metadata": {
        "colab": {
          "base_uri": "https://localhost:8080/"
        },
        "id": "LosDl-3k-OHC",
        "outputId": "4b3315f1-8a90-406e-f562-e66c50b7e5bb"
      },
      "execution_count": 57,
      "outputs": [
        {
          "output_type": "stream",
          "name": "stdout",
          "text": [
            "i am D.Sanjay of cse(ai & ml) branch \\ooo i stay at nad\n"
          ]
        }
      ]
    },
    {
      "cell_type": "code",
      "source": [
        "a='''My name is sanjay, i am studing btech at gitam university vizag. i stay at nad'''\n",
        "print(len(a))\n",
        "print(a)\n",
        "print('btech' in a)\n",
        "print('python'in a)\n",
        "print('zag' in a)\n",
        "print('gitam' not in a)\n",
        "print('at' in a,'am' in a) "
      ],
      "metadata": {
        "colab": {
          "base_uri": "https://localhost:8080/"
        },
        "id": "qHS_reus_TBc",
        "outputId": "d3a3facc-150f-4c55-e4d4-c6ad2c8ead77"
      },
      "execution_count": 15,
      "outputs": [
        {
          "output_type": "stream",
          "name": "stdout",
          "text": [
            "78\n",
            "My name is sanjay, i am studing btech at gitam university vizag. i stay at nad\n",
            "True\n",
            "False\n",
            "True\n",
            "False\n",
            "True True\n"
          ]
        }
      ]
    },
    {
      "cell_type": "markdown",
      "source": [
        "# SLICING OF A STRING "
      ],
      "metadata": {
        "id": "BUS3erUGCjRU"
      }
    },
    {
      "cell_type": "code",
      "source": [
        "A='RRR is a masterpiece'\n",
        "print(A[3:],A[:2])\n",
        "print(A[:3])\n",
        "print(A[2:6])\n",
        "print(A[-6:-2])\n",
        "print(A.upper())\n",
        "print(A.lower())\n",
        "print(A.strip())\n",
        "print(A.replace('i','hi'))\n",
        "print(A.split(' '))"
      ],
      "metadata": {
        "colab": {
          "base_uri": "https://localhost:8080/"
        },
        "id": "7vwgIiA5CrwK",
        "outputId": "251e2f33-8661-4fe4-fc52-c1aa9724b199"
      },
      "execution_count": 38,
      "outputs": [
        {
          "output_type": "stream",
          "name": "stdout",
          "text": [
            " is a masterpiece RR\n",
            "RRR\n",
            "R is\n",
            "rpie\n",
            "RRR IS A MASTERPIECE\n",
            "rrr is a masterpiece\n",
            "RRR is a masterpiece\n",
            "RRR his a masterphiece\n",
            "['RRR', 'is', 'a', 'masterpiece']\n"
          ]
        }
      ]
    },
    {
      "cell_type": "markdown",
      "source": [
        "# REVERSE OF A STRING"
      ],
      "metadata": {
        "id": "IejNENSTFxtU"
      }
    },
    {
      "cell_type": "code",
      "source": [
        "a='''i am a good boy'''\n"
      ],
      "metadata": {
        "id": "jOQOOBPDF2mZ"
      },
      "execution_count": null,
      "outputs": []
    },
    {
      "cell_type": "markdown",
      "source": [
        "# MODIFYING A STRINGS"
      ],
      "metadata": {
        "id": "G8z8rZxHF3hi"
      }
    },
    {
      "cell_type": "code",
      "source": [
        ""
      ],
      "metadata": {
        "id": "sItuWtnGGBgy"
      },
      "execution_count": null,
      "outputs": []
    },
    {
      "cell_type": "markdown",
      "source": [
        "ESCAPE "
      ],
      "metadata": {
        "id": "6kMzMgKRPTTc"
      }
    },
    {
      "cell_type": "code",
      "source": [
        ""
      ],
      "metadata": {
        "id": "2Ww_6H3EPWb6"
      },
      "execution_count": null,
      "outputs": []
    }
  ]
}