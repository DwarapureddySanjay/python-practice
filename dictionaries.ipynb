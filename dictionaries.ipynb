{
  "nbformat": 4,
  "nbformat_minor": 0,
  "metadata": {
    "colab": {
      "name": "dictionaries.ipynb",
      "provenance": [],
      "authorship_tag": "ABX9TyOq+2CHR2NVTc/36VbQHPKM",
      "include_colab_link": true
    },
    "kernelspec": {
      "name": "python3",
      "display_name": "Python 3"
    },
    "language_info": {
      "name": "python"
    }
  },
  "cells": [
    {
      "cell_type": "markdown",
      "metadata": {
        "id": "view-in-github",
        "colab_type": "text"
      },
      "source": [
        "<a href=\"https://colab.research.google.com/github/DwarapureddySanjay/python-practice/blob/main/dictionaries.ipynb\" target=\"_parent\"><img src=\"https://colab.research.google.com/assets/colab-badge.svg\" alt=\"Open In Colab\"/></a>"
      ]
    },
    {
      "cell_type": "code",
      "execution_count": 11,
      "metadata": {
        "colab": {
          "base_uri": "https://localhost:8080/"
        },
        "id": "wLqdB9Mmdsbx",
        "outputId": "96d245ca-4284-4c10-c386-6513568ac50a"
      },
      "outputs": [
        {
          "output_type": "stream",
          "name": "stdout",
          "text": [
            "{'Name': 'rakesh', 'Age': 21, 'CGPA': 9, 'Phone number': 9923761981}\n",
            "rakesh\n",
            "21\n",
            "9.5\n",
            "9922367589\n",
            "{'name': 'rakesh', 'Age': 21, 'CGPA': 9.5, 'Phone_number': 9922367589}\n"
          ]
        }
      ],
      "source": [
        "Placement={'Name':'rakesh', 'Age':21, 'CGPA':9, 'Phone number':9923761981}\n",
        "print(Placement)\n",
        "Placement={\n",
        "    'name':str(input()),\n",
        "    'Age':int(input()),\n",
        "    'CGPA':float(input()),\n",
        "    'Phone_number':int(input())\n",
        "}\n",
        "print(Placement)"
      ]
    }
  ]
}