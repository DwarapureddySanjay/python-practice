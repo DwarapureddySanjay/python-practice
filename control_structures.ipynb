{
  "nbformat": 4,
  "nbformat_minor": 0,
  "metadata": {
    "colab": {
      "name": "control structures.ipynb",
      "provenance": [],
      "authorship_tag": "ABX9TyNKJa/UzJ48NK1DD9OqLm2O",
      "include_colab_link": true
    },
    "kernelspec": {
      "name": "python3",
      "display_name": "Python 3"
    },
    "language_info": {
      "name": "python"
    }
  },
  "cells": [
    {
      "cell_type": "markdown",
      "metadata": {
        "id": "view-in-github",
        "colab_type": "text"
      },
      "source": [
        "<a href=\"https://colab.research.google.com/github/DwarapureddySanjay/python-practice/blob/main/control_structures.ipynb\" target=\"_parent\"><img src=\"https://colab.research.google.com/assets/colab-badge.svg\" alt=\"Open In Colab\"/></a>"
      ]
    },
    {
      "cell_type": "code",
      "execution_count": 7,
      "metadata": {
        "colab": {
          "base_uri": "https://localhost:8080/"
        },
        "id": "kQXVfG-kPbmJ",
        "outputId": "b7a9a016-656d-4637-b293-f2fe7b588bbc"
      },
      "outputs": [
        {
          "output_type": "stream",
          "name": "stdout",
          "text": [
            "Enter the age12\n",
            "person not eligible for voting\n"
          ]
        }
      ],
      "source": [
        "# Find out the person is eligin=ble for voting or not\n",
        "a=int(input('Enter the age'))\n",
        "if a>=18:\n",
        "   print('person  eligible for voting')\n",
        "else:\n",
        "    print('person not eligible for voting')"
      ]
    },
    {
      "cell_type": "code",
      "source": [
        "# Find got the maximum of three numbers\n",
        "a=int(input('Enter the first number'))\n",
        "b=int(input('Enter the second number'))\n",
        "c=int(input('Enter the third number'))\n",
        "if a>b and a>c:\n",
        "   print('a is maximum')\n",
        "elif b>a and b>c:\n",
        "   print('b is maximum')\n",
        "else:\n",
        "   print('c is maximum')"
      ],
      "metadata": {
        "colab": {
          "base_uri": "https://localhost:8080/"
        },
        "id": "jbdT344vRax7",
        "outputId": "08b57fc4-cba7-43b2-d102-cc134dd7408e"
      },
      "execution_count": 11,
      "outputs": [
        {
          "output_type": "stream",
          "name": "stdout",
          "text": [
            "Enter the first number4\n",
            "Enter the second number7\n",
            "Enter the third number5\n",
            "b is maximum\n"
          ]
        }
      ]
    },
    {
      "cell_type": "code",
      "source": [
        "# Give 5 subject marks and find out the greatest among them\n",
        "a=int(input('Enter the first number'))\n",
        "b=int(input('Enter the second number'))\n",
        "c=int(input('Enter the third number'))\n",
        "d=int(input('Enter the fourth number'))\n",
        "e=int(input('Enter the fifth number'))\n",
        "if a>b and a>c and a>d and a>e:\n",
        "   print('a is greatest')\n",
        "elif b>a and b>c and b>d and b>e:\n",
        "   print('b is greatest')\n",
        "elif c>a and c>b and c>d and c>e:\n",
        "   print('c is greatest')\n",
        "elif d>a and d>c and d>c and d>e:\n",
        "   print('d is greatest')\n",
        "else:\n",
        "   print('e is greatest')    "
      ],
      "metadata": {
        "colab": {
          "base_uri": "https://localhost:8080/"
        },
        "id": "3_84C6-fTCTc",
        "outputId": "1acf9c09-8a34-471c-c889-e0fc16071f89"
      },
      "execution_count": 12,
      "outputs": [
        {
          "output_type": "stream",
          "name": "stdout",
          "text": [
            "Enter the first number4\n",
            "Enter the second number7\n",
            "Enter the third number9\n",
            "Enter the fourth number6\n",
            "Enter the fifth number5\n",
            "c is greatest\n"
          ]
        }
      ]
    },
    {
      "cell_type": "code",
      "source": [
        "# Check whether a triangle is equilateral, isosceles, scalene triangle\n",
        "a=int(input('Enter the value of 1st side'))\n",
        "b=int(input('Enter the value of 2nd side'))\n",
        "c=int(input('Enter the value of 3rd side'))\n",
        "if a==b==c:\n",
        "   print('equilateral traingle')\n",
        "elif a!=b and b!=c and c!=a:\n",
        "     print('scalene triangle')\n",
        "else:     \n",
        "     print('isosceles triangle')     "
      ],
      "metadata": {
        "colab": {
          "base_uri": "https://localhost:8080/"
        },
        "id": "VSp1fpwDVraz",
        "outputId": "bc8f2093-7559-4ca6-ba1e-b4e69692c49f"
      },
      "execution_count": 20,
      "outputs": [
        {
          "output_type": "stream",
          "name": "stdout",
          "text": [
            "Enter the value of 1st side5\n",
            "Enter the value of 2nd side6\n",
            "Enter the value of 3rd side5\n",
            "isosceles triangle\n"
          ]
        }
      ]
    },
    {
      "cell_type": "code",
      "source": [
        "# check whether a year is leap year or not\n",
        "a=int(input('Enter the year'))\n",
        "if a%4==0 and a%100!=0:\n",
        "   print('leap year')\n",
        "elif a%400==0 and a%100!=0:\n",
        "   print('leap year')\n",
        "else:\n",
        "   print('not leap year') "
      ],
      "metadata": {
        "colab": {
          "base_uri": "https://localhost:8080/"
        },
        "id": "-MguI9B3a7-q",
        "outputId": "64f5679a-f093-4600-fbd5-671e79ebece5"
      },
      "execution_count": 23,
      "outputs": [
        {
          "output_type": "stream",
          "name": "stdout",
          "text": [
            "Enter the year2012\n",
            "leap year\n"
          ]
        }
      ]
    },
    {
      "cell_type": "code",
      "source": [
        "import math\n"
      ],
      "metadata": {
        "id": "EsOgAPqweQrZ"
      },
      "execution_count": null,
      "outputs": []
    }
  ]
}