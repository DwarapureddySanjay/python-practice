{
  "nbformat": 4,
  "nbformat_minor": 0,
  "metadata": {
    "colab": {
      "name": "function.ipynb",
      "provenance": [],
      "collapsed_sections": [],
      "authorship_tag": "ABX9TyN+jOMR+mfKd4fvZxhjGqhC",
      "include_colab_link": true
    },
    "kernelspec": {
      "name": "python3",
      "display_name": "Python 3"
    },
    "language_info": {
      "name": "python"
    }
  },
  "cells": [
    {
      "cell_type": "markdown",
      "metadata": {
        "id": "view-in-github",
        "colab_type": "text"
      },
      "source": [
        "<a href=\"https://colab.research.google.com/github/DwarapureddySanjay/python-practice/blob/main/function.ipynb\" target=\"_parent\"><img src=\"https://colab.research.google.com/assets/colab-badge.svg\" alt=\"Open In Colab\"/></a>"
      ]
    },
    {
      "cell_type": "code",
      "execution_count": null,
      "metadata": {
        "colab": {
          "base_uri": "https://localhost:8080/"
        },
        "id": "LnFTv_F2WqMl",
        "outputId": "4e2d276d-0d8e-4bb6-b7e6-d736f93f4b99"
      },
      "outputs": [
        {
          "output_type": "stream",
          "name": "stdout",
          "text": [
            "hi\n",
            "how are you\n"
          ]
        }
      ],
      "source": [
        "def sanjay():\n",
        "  print('hi')\n",
        "  print('how are you')\n",
        "sanjay()"
      ]
    },
    {
      "cell_type": "code",
      "source": [
        "def KGF():\n",
        "  print('yash')\n",
        "  print('prakash raj')\n",
        "KGF()"
      ],
      "metadata": {
        "colab": {
          "base_uri": "https://localhost:8080/"
        },
        "id": "q4n7jQ58XadV",
        "outputId": "7024b6f4-9ecc-4ac1-feaa-0402e1a9d541"
      },
      "execution_count": null,
      "outputs": [
        {
          "output_type": "stream",
          "name": "stdout",
          "text": [
            "yash\n",
            "prakash raj\n"
          ]
        }
      ]
    },
    {
      "cell_type": "code",
      "source": [
        "def my_function(Hero):\n",
        "  print(Hero + \" ROCKY\")\n",
        "\n",
        "my_function(\"prabhas\")\n",
        "my_function(\"ram charan\")\n",
        "my_function(\"ntr\")\n"
      ],
      "metadata": {
        "colab": {
          "base_uri": "https://localhost:8080/"
        },
        "id": "jX3zYcfdYAuc",
        "outputId": "5062fc06-8e45-4f5f-9942-55952a1d6951"
      },
      "execution_count": null,
      "outputs": [
        {
          "output_type": "stream",
          "name": "stdout",
          "text": [
            "prabhas ROCKY\n",
            "ram charan ROCKY\n",
            "ntr ROCKY\n"
          ]
        }
      ]
    },
    {
      "cell_type": "code",
      "source": [
        "def rumers(hero, heroine):\n",
        "  print(hero + \" likes \" + heroine)\n",
        "\n",
        "rumers(\"prabhas\", \"anuska\")\n",
        "rumers(\"ntr\" , \"kajal\")\n",
        "rumers(\"ram charan\",\"alia bhut\")"
      ],
      "metadata": {
        "colab": {
          "base_uri": "https://localhost:8080/"
        },
        "id": "GvPRxizRZBGt",
        "outputId": "a5210a36-c56f-436d-ac26-fb6826ba7a1c"
      },
      "execution_count": null,
      "outputs": [
        {
          "output_type": "stream",
          "name": "stdout",
          "text": [
            "prabhas likes anuska\n",
            "ntr likes kajal\n",
            "ram charan likes alia bhut\n"
          ]
        }
      ]
    },
    {
      "cell_type": "code",
      "source": [
        "def voter(name, age, gender):\n",
        "  print(\"name=\",name,\"age=\",age,\"gender=\",gender)\n",
        "  if age>=18:\n",
        "    print(\"eligible for voting\")\n",
        "  else:\n",
        "    print(\"not eligible for voting\")\n",
        "voter(\"sanjay\", 19,\" male\")\n",
        "voter(\"maruthi\", 22,\" male\")"
      ],
      "metadata": {
        "colab": {
          "base_uri": "https://localhost:8080/"
        },
        "id": "akSh3LbTZ-CN",
        "outputId": "5440ac31-010e-48d6-ffb3-8f1d2ed3a997"
      },
      "execution_count": null,
      "outputs": [
        {
          "output_type": "stream",
          "name": "stdout",
          "text": [
            "name= sanjay age= 19 gender=  male\n",
            "eligible for voting\n",
            "name= maruthi age= 22 gender=  male\n",
            "eligible for voting\n"
          ]
        }
      ]
    },
    {
      "cell_type": "code",
      "source": [
        "def voting_eligiblity():\n",
        "  x=int(input())\n",
        "  if x>=18:\n",
        "    print(\"eligible for voting\")\n",
        "  else:\n",
        "    print(\"not eligible for voting\")\n",
        "voting_eligiblity()"
      ],
      "metadata": {
        "colab": {
          "base_uri": "https://localhost:8080/"
        },
        "id": "U7xGWQslcSVD",
        "outputId": "e084a4ce-9753-451a-855b-dd3c74498b4d"
      },
      "execution_count": null,
      "outputs": [
        {
          "output_type": "stream",
          "name": "stdout",
          "text": [
            "28\n",
            "eligible for voting\n"
          ]
        }
      ]
    },
    {
      "cell_type": "code",
      "source": [
        "def leap_year():\n",
        "  year=int(input())\n",
        "  "
      ],
      "metadata": {
        "id": "vIzATWJ2fMGb"
      },
      "execution_count": null,
      "outputs": []
    },
    {
      "cell_type": "code",
      "source": [
        "def voter(*details):\n",
        "  print(\"name=\",details[0],\"age=\",details[1],\"gender=\",details[2])\n",
        "  if details[1]>=18:\n",
        "    print(\"eligible for voting\")\n",
        "  else:\n",
        "    print(\"not eligible for voting\")\n",
        "voter(\"sanjay\", 19,\" male\")\n",
        "voter(\"maruthi\", 22,\" male\")"
      ],
      "metadata": {
        "colab": {
          "base_uri": "https://localhost:8080/"
        },
        "id": "69tMKpugilHk",
        "outputId": "627913f3-6715-429f-ca14-faa8c89a7974"
      },
      "execution_count": null,
      "outputs": [
        {
          "output_type": "stream",
          "name": "stdout",
          "text": [
            "name= sanjay age= 19 gender=  male\n",
            "eligible for voting\n",
            "name= maruthi age= 22 gender=  male\n",
            "eligible for voting\n"
          ]
        }
      ]
    },
    {
      "cell_type": "code",
      "source": [
        "def voter(*details):\n",
        "  print(details[0],details[1],details[2])\n",
        "  if details['age']>=18:\n",
        "    print(\"eligible for voting\")\n",
        "  else:\n",
        "    print(\"not eligible for voting\")\n",
        "voter(name=\"sanjay\",age= 19 ,gender=\" male\")\n"
      ],
      "metadata": {
        "colab": {
          "base_uri": "https://localhost:8080/",
          "height": 200
        },
        "id": "LxeNAKV5i_jS",
        "outputId": "a958d002-4870-4ed0-95f3-141bd6f834cb"
      },
      "execution_count": null,
      "outputs": [
        {
          "output_type": "error",
          "ename": "TypeError",
          "evalue": "ignored",
          "traceback": [
            "\u001b[0;31m---------------------------------------------------------------------------\u001b[0m",
            "\u001b[0;31mTypeError\u001b[0m                                 Traceback (most recent call last)",
            "\u001b[0;32m<ipython-input-32-58e9df349a70>\u001b[0m in \u001b[0;36m<module>\u001b[0;34m()\u001b[0m\n\u001b[1;32m      5\u001b[0m   \u001b[0;32melse\u001b[0m\u001b[0;34m:\u001b[0m\u001b[0;34m\u001b[0m\u001b[0;34m\u001b[0m\u001b[0m\n\u001b[1;32m      6\u001b[0m     \u001b[0mprint\u001b[0m\u001b[0;34m(\u001b[0m\u001b[0;34m\"not eligible for voting\"\u001b[0m\u001b[0;34m)\u001b[0m\u001b[0;34m\u001b[0m\u001b[0;34m\u001b[0m\u001b[0m\n\u001b[0;32m----> 7\u001b[0;31m \u001b[0mvoter\u001b[0m\u001b[0;34m(\u001b[0m\u001b[0mname\u001b[0m\u001b[0;34m=\u001b[0m\u001b[0;34m\"sanjay\"\u001b[0m\u001b[0;34m,\u001b[0m\u001b[0mage\u001b[0m\u001b[0;34m=\u001b[0m \u001b[0;34m'19'\u001b[0m\u001b[0;34m,\u001b[0m\u001b[0mgender\u001b[0m\u001b[0;34m=\u001b[0m\u001b[0;34m\" male\"\u001b[0m\u001b[0;34m)\u001b[0m\u001b[0;34m\u001b[0m\u001b[0;34m\u001b[0m\u001b[0m\n\u001b[0m",
            "\u001b[0;31mTypeError\u001b[0m: voter() got an unexpected keyword argument 'name'"
          ]
        }
      ]
    },
    {
      "cell_type": "markdown",
      "source": [
        "# PYTHON BUILT-IN FUNCTIONS"
      ],
      "metadata": {
        "id": "OSUZgrRzlMML"
      }
    },
    {
      "cell_type": "code",
      "source": [
        "# absolute function\n",
        "a=27.45\n",
        "b=abs(a)\n",
        "print(b)\n",
        "# power function\n",
        "a=24\n",
        "b=pow(a,2)\n",
        "print(b)"
      ],
      "metadata": {
        "colab": {
          "base_uri": "https://localhost:8080/"
        },
        "id": "Tp_NvJt1lAnT",
        "outputId": "d3fc5fda-7979-40e2-ea1a-73597ad80360"
      },
      "execution_count": null,
      "outputs": [
        {
          "output_type": "stream",
          "name": "stdout",
          "text": [
            "27.45\n",
            "576\n"
          ]
        }
      ]
    },
    {
      "cell_type": "code",
      "source": [
        "# RETURN PROBLEMS\n",
        "def my_function(x):\n",
        "  return 5 * x\n",
        "\n",
        "print(my_function(3))\n",
        "print(my_function(5))\n",
        "print(my_function(9))\n"
      ],
      "metadata": {
        "id": "mjmE6v1UluXj",
        "colab": {
          "base_uri": "https://localhost:8080/"
        },
        "outputId": "c0632d8a-7284-48b6-ac3e-04fb52de2751"
      },
      "execution_count": null,
      "outputs": [
        {
          "output_type": "stream",
          "name": "stdout",
          "text": [
            "15\n",
            "25\n",
            "45\n"
          ]
        }
      ]
    },
    {
      "cell_type": "code",
      "source": [
        "def difference():\n",
        "  list1=[sam, jam, jake]\n",
        "  list2=[apple, ball, cat]\n",
        "  a=list2"
      ],
      "metadata": {
        "id": "tHVVKDk6ZihW"
      },
      "execution_count": null,
      "outputs": []
    },
    {
      "cell_type": "code",
      "source": [
        "import math\n",
        "def factorial(n):\n",
        "  return math.factorial(n)\n",
        "n=int(input())\n",
        "r=int(input())\n",
        "def ncr(n,r):\n",
        "  y=factorial(n)\n",
        "  z=factorial(r)\n",
        "  s=factorial(n-r)\n",
        "  ncr=y/(s*z)\n",
        "  print(ncr)\n",
        "ncr(n,r)"
      ],
      "metadata": {
        "colab": {
          "base_uri": "https://localhost:8080/"
        },
        "id": "3NxaelWEN9Kn",
        "outputId": "6a7e6fb8-0236-4bc5-8e09-8ddc3570fd2f"
      },
      "execution_count": 8,
      "outputs": [
        {
          "output_type": "stream",
          "name": "stdout",
          "text": [
            "10\n",
            "5\n",
            "252.0\n"
          ]
        }
      ]
    },
    {
      "cell_type": "code",
      "source": [
        "list=['Red','Green','White','Black','Pink','Yellow']\n",
        "print(list[1:4])"
      ],
      "metadata": {
        "colab": {
          "base_uri": "https://localhost:8080/"
        },
        "id": "tDM5x3wluIlP",
        "outputId": "4543bdb2-b2fc-4ab7-f063-111a30cb838b"
      },
      "execution_count": 3,
      "outputs": [
        {
          "output_type": "stream",
          "name": "stdout",
          "text": [
            "['Green', 'White', 'Black']\n"
          ]
        }
      ]
    },
    {
      "cell_type": "code",
      "source": [
        "a=[1,3,4,6,7]\n",
        "b=[2,6,8,5]\n",
        "x=(set(a)-set(b))\n",
        "print(list(x))"
      ],
      "metadata": {
        "id": "eRx3CLD8y0Rj"
      },
      "execution_count": null,
      "outputs": []
    },
    {
      "cell_type": "code",
      "source": [
        "list=[4,6,2,8,6,9,3]\n",
        "L = len(list)\n",
        "list.sort()\n",
        "print(\"Largest element is:\", list[L-1])\n",
        "print(\"Smallest element is:\", list[0])\n",
        "print(\"Second Largest element is:\", list[L-2])\n",
        "print(\"Second Smallest element is:\", list[1])\n",
        "  "
      ],
      "metadata": {
        "colab": {
          "base_uri": "https://localhost:8080/"
        },
        "id": "WL7eZgdcy1eD",
        "outputId": "1b1a9b79-bf6c-4b8b-800e-8be1d0f4797e"
      },
      "execution_count": 13,
      "outputs": [
        {
          "output_type": "stream",
          "name": "stdout",
          "text": [
            "Largest element is: 9\n",
            "Smallest element is: 2\n",
            "Second Largest element is: 8\n",
            "Second Smallest element is: 3\n"
          ]
        }
      ]
    },
    {
      "cell_type": "code",
      "source": [
        "import math\n",
        "L=[5,10,7,3,11]\n",
        "for x in L:\n",
        "  tuple=[(x,pow(x,2))]\n",
        "  print(tuple)"
      ],
      "metadata": {
        "colab": {
          "base_uri": "https://localhost:8080/"
        },
        "id": "X_Z0e5AF0u1q",
        "outputId": "6349e12c-d1f7-4ae7-9df0-044c53980814"
      },
      "execution_count": 15,
      "outputs": [
        {
          "output_type": "stream",
          "name": "stdout",
          "text": [
            "[(5, 25)]\n",
            "[(10, 100)]\n",
            "[(7, 49)]\n",
            "[(3, 9)]\n",
            "[(11, 121)]\n"
          ]
        }
      ]
    },
    {
      "cell_type": "code",
      "source": [
        "L=[(4,5),(4),(8,6,7),(1),(3,4,6,7)]\n",
        "k=2\n",
        "for x in L:\n",
        "  if len(L)!=k:\n",
        "    print([x],end='')"
      ],
      "metadata": {
        "colab": {
          "base_uri": "https://localhost:8080/"
        },
        "id": "G5lgmV4x3Tag",
        "outputId": "3238ec46-df20-40f5-ca1b-e30cc5666995"
      },
      "execution_count": 21,
      "outputs": [
        {
          "output_type": "stream",
          "name": "stdout",
          "text": [
            "[(4, 5)][4][(8, 6, 7)][1][(3, 4, 6, 7)]"
          ]
        }
      ]
    }
  ]
}