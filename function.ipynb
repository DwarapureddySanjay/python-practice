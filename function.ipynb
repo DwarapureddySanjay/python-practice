{
  "nbformat": 4,
  "nbformat_minor": 0,
  "metadata": {
    "colab": {
      "name": "function.ipynb",
      "provenance": [],
      "authorship_tag": "ABX9TyOqGEt8PyhV+5c+N3O1Vkq7",
      "include_colab_link": true
    },
    "kernelspec": {
      "name": "python3",
      "display_name": "Python 3"
    },
    "language_info": {
      "name": "python"
    }
  },
  "cells": [
    {
      "cell_type": "markdown",
      "metadata": {
        "id": "view-in-github",
        "colab_type": "text"
      },
      "source": [
        "<a href=\"https://colab.research.google.com/github/DwarapureddySanjay/python-practice/blob/main/function.ipynb\" target=\"_parent\"><img src=\"https://colab.research.google.com/assets/colab-badge.svg\" alt=\"Open In Colab\"/></a>"
      ]
    },
    {
      "cell_type": "code",
      "execution_count": 5,
      "metadata": {
        "colab": {
          "base_uri": "https://localhost:8080/"
        },
        "id": "LnFTv_F2WqMl",
        "outputId": "4e2d276d-0d8e-4bb6-b7e6-d736f93f4b99"
      },
      "outputs": [
        {
          "output_type": "stream",
          "name": "stdout",
          "text": [
            "hi\n",
            "how are you\n"
          ]
        }
      ],
      "source": [
        "def sanjay():\n",
        "  print('hi')\n",
        "  print('how are you')\n",
        "sanjay()"
      ]
    },
    {
      "cell_type": "code",
      "source": [
        "def KGF():\n",
        "  print('yash')\n",
        "  print('prakash raj')\n",
        "KGF()"
      ],
      "metadata": {
        "colab": {
          "base_uri": "https://localhost:8080/"
        },
        "id": "q4n7jQ58XadV",
        "outputId": "7024b6f4-9ecc-4ac1-feaa-0402e1a9d541"
      },
      "execution_count": 6,
      "outputs": [
        {
          "output_type": "stream",
          "name": "stdout",
          "text": [
            "yash\n",
            "prakash raj\n"
          ]
        }
      ]
    },
    {
      "cell_type": "code",
      "source": [
        "def my_function(Hero):\n",
        "  print(Hero + \" ROCKY\")\n",
        "\n",
        "my_function(\"prabhas\")\n",
        "my_function(\"ram charan\")\n",
        "my_function(\"ntr\")\n"
      ],
      "metadata": {
        "colab": {
          "base_uri": "https://localhost:8080/"
        },
        "id": "jX3zYcfdYAuc",
        "outputId": "5062fc06-8e45-4f5f-9942-55952a1d6951"
      },
      "execution_count": 7,
      "outputs": [
        {
          "output_type": "stream",
          "name": "stdout",
          "text": [
            "prabhas ROCKY\n",
            "ram charan ROCKY\n",
            "ntr ROCKY\n"
          ]
        }
      ]
    },
    {
      "cell_type": "code",
      "source": [
        "def rumers(hero, heroine):\n",
        "  print(hero + \" likes \" + heroine)\n",
        "\n",
        "rumers(\"prabhas\", \"anuska\")\n",
        "rumers(\"ntr\" , \"kajal\")\n",
        "rumers(\"ram charan\",\"alia bhut\")"
      ],
      "metadata": {
        "colab": {
          "base_uri": "https://localhost:8080/"
        },
        "id": "GvPRxizRZBGt",
        "outputId": "a5210a36-c56f-436d-ac26-fb6826ba7a1c"
      },
      "execution_count": 10,
      "outputs": [
        {
          "output_type": "stream",
          "name": "stdout",
          "text": [
            "prabhas likes anuska\n",
            "ntr likes kajal\n",
            "ram charan likes alia bhut\n"
          ]
        }
      ]
    },
    {
      "cell_type": "code",
      "source": [
        "def voter(name, age, gender):\n",
        "  print(\"name=\",name,\"age=\",age,\"gender=\",gender)\n",
        "  if age>=18:\n",
        "    print(\"eligible for voting\")\n",
        "  else:\n",
        "    print(\"not eligible for voting\")\n",
        "voter(\"sanjay\", 19,\" male\")\n",
        "voter(\"maruthi\", 22,\" male\")"
      ],
      "metadata": {
        "colab": {
          "base_uri": "https://localhost:8080/"
        },
        "id": "akSh3LbTZ-CN",
        "outputId": "5440ac31-010e-48d6-ffb3-8f1d2ed3a997"
      },
      "execution_count": 19,
      "outputs": [
        {
          "output_type": "stream",
          "name": "stdout",
          "text": [
            "name= sanjay age= 19 gender=  male\n",
            "eligible for voting\n",
            "name= maruthi age= 22 gender=  male\n",
            "eligible for voting\n"
          ]
        }
      ]
    },
    {
      "cell_type": "code",
      "source": [
        "def voting_eligiblity():\n",
        "  x=int(input())\n",
        "  if x>=18:\n",
        "    print(\"eligible for voting\")\n",
        "  else:\n",
        "    print(\"not eligible for voting\")\n",
        "voting_eligiblity()"
      ],
      "metadata": {
        "colab": {
          "base_uri": "https://localhost:8080/"
        },
        "id": "U7xGWQslcSVD",
        "outputId": "e084a4ce-9753-451a-855b-dd3c74498b4d"
      },
      "execution_count": 16,
      "outputs": [
        {
          "output_type": "stream",
          "name": "stdout",
          "text": [
            "28\n",
            "eligible for voting\n"
          ]
        }
      ]
    },
    {
      "cell_type": "code",
      "source": [
        "def leap_year():\n",
        "  year=int(input())\n",
        "  "
      ],
      "metadata": {
        "id": "vIzATWJ2fMGb"
      },
      "execution_count": null,
      "outputs": []
    },
    {
      "cell_type": "code",
      "source": [
        "def voter(*details):\n",
        "  print(\"name=\",details[0],\"age=\",details[1],\"gender=\",details[2])\n",
        "  if details[1]>=18:\n",
        "    print(\"eligible for voting\")\n",
        "  else:\n",
        "    print(\"not eligible for voting\")\n",
        "voter(\"sanjay\", 19,\" male\")\n",
        "voter(\"maruthi\", 22,\" male\")"
      ],
      "metadata": {
        "colab": {
          "base_uri": "https://localhost:8080/"
        },
        "id": "69tMKpugilHk",
        "outputId": "627913f3-6715-429f-ca14-faa8c89a7974"
      },
      "execution_count": 23,
      "outputs": [
        {
          "output_type": "stream",
          "name": "stdout",
          "text": [
            "name= sanjay age= 19 gender=  male\n",
            "eligible for voting\n",
            "name= maruthi age= 22 gender=  male\n",
            "eligible for voting\n"
          ]
        }
      ]
    },
    {
      "cell_type": "code",
      "source": [
        "def voter(*details):\n",
        "  print(details[0],details[1],details[2])\n",
        "  if details['age']>=18:\n",
        "    print(\"eligible for voting\")\n",
        "  else:\n",
        "    print(\"not eligible for voting\")\n",
        "voter(name=\"sanjay\",age= 19 ,gender=\" male\")\n"
      ],
      "metadata": {
        "colab": {
          "base_uri": "https://localhost:8080/",
          "height": 200
        },
        "id": "LxeNAKV5i_jS",
        "outputId": "a958d002-4870-4ed0-95f3-141bd6f834cb"
      },
      "execution_count": 32,
      "outputs": [
        {
          "output_type": "error",
          "ename": "TypeError",
          "evalue": "ignored",
          "traceback": [
            "\u001b[0;31m---------------------------------------------------------------------------\u001b[0m",
            "\u001b[0;31mTypeError\u001b[0m                                 Traceback (most recent call last)",
            "\u001b[0;32m<ipython-input-32-58e9df349a70>\u001b[0m in \u001b[0;36m<module>\u001b[0;34m()\u001b[0m\n\u001b[1;32m      5\u001b[0m   \u001b[0;32melse\u001b[0m\u001b[0;34m:\u001b[0m\u001b[0;34m\u001b[0m\u001b[0;34m\u001b[0m\u001b[0m\n\u001b[1;32m      6\u001b[0m     \u001b[0mprint\u001b[0m\u001b[0;34m(\u001b[0m\u001b[0;34m\"not eligible for voting\"\u001b[0m\u001b[0;34m)\u001b[0m\u001b[0;34m\u001b[0m\u001b[0;34m\u001b[0m\u001b[0m\n\u001b[0;32m----> 7\u001b[0;31m \u001b[0mvoter\u001b[0m\u001b[0;34m(\u001b[0m\u001b[0mname\u001b[0m\u001b[0;34m=\u001b[0m\u001b[0;34m\"sanjay\"\u001b[0m\u001b[0;34m,\u001b[0m\u001b[0mage\u001b[0m\u001b[0;34m=\u001b[0m \u001b[0;34m'19'\u001b[0m\u001b[0;34m,\u001b[0m\u001b[0mgender\u001b[0m\u001b[0;34m=\u001b[0m\u001b[0;34m\" male\"\u001b[0m\u001b[0;34m)\u001b[0m\u001b[0;34m\u001b[0m\u001b[0;34m\u001b[0m\u001b[0m\n\u001b[0m",
            "\u001b[0;31mTypeError\u001b[0m: voter() got an unexpected keyword argument 'name'"
          ]
        }
      ]
    },
    {
      "cell_type": "markdown",
      "source": [
        "# PYTHON BUILT-IN FUNCTIONS"
      ],
      "metadata": {
        "id": "OSUZgrRzlMML"
      }
    },
    {
      "cell_type": "code",
      "source": [
        "# absolute function\n",
        "a=27.45\n",
        "b=abs(a)\n",
        "print(b)\n",
        "# power function\n",
        "a=24\n",
        "b=pow(a,2)\n",
        "print(b)"
      ],
      "metadata": {
        "colab": {
          "base_uri": "https://localhost:8080/"
        },
        "id": "Tp_NvJt1lAnT",
        "outputId": "d3fc5fda-7979-40e2-ea1a-73597ad80360"
      },
      "execution_count": 29,
      "outputs": [
        {
          "output_type": "stream",
          "name": "stdout",
          "text": [
            "27.45\n",
            "576\n"
          ]
        }
      ]
    },
    {
      "cell_type": "code",
      "source": [
        ""
      ],
      "metadata": {
        "id": "mjmE6v1UluXj"
      },
      "execution_count": null,
      "outputs": []
    }
  ]
}