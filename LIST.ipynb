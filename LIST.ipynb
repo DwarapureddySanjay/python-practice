{
  "nbformat": 4,
  "nbformat_minor": 0,
  "metadata": {
    "colab": {
      "name": "LIST.ipynb",
      "provenance": [],
      "authorship_tag": "ABX9TyNltNkKk9VpG39b3XnZ3CPQ",
      "include_colab_link": true
    },
    "kernelspec": {
      "name": "python3",
      "display_name": "Python 3"
    },
    "language_info": {
      "name": "python"
    }
  },
  "cells": [
    {
      "cell_type": "markdown",
      "metadata": {
        "id": "view-in-github",
        "colab_type": "text"
      },
      "source": [
        "<a href=\"https://colab.research.google.com/github/DwarapureddySanjay/python-practice/blob/main/LIST.ipynb\" target=\"_parent\"><img src=\"https://colab.research.google.com/assets/colab-badge.svg\" alt=\"Open In Colab\"/></a>"
      ]
    },
    {
      "cell_type": "code",
      "execution_count": 51,
      "metadata": {
        "colab": {
          "base_uri": "https://localhost:8080/"
        },
        "id": "mFrvILtJ4LXH",
        "outputId": "9e6a1661-af6b-475a-b6ae-47122480c06c"
      },
      "outputs": [
        {
          "output_type": "stream",
          "name": "stdout",
          "text": [
            "grapes orange\n",
            "a\n",
            "['orange', 'mango', 'appple', 'pineapple']\n",
            "grapes\n",
            "pineapple\n",
            "appple\n",
            "['orange', 'mango', 'appple', 'pineapple']\n",
            "['orange', 'mango', 'appple', 'pineapple', 'grapes', 'dark choco']\n",
            "['lemon', 'orange', 'mango', 'appple', 'pineapple', 'grapes', 'dark choco']\n",
            "['dark choco', 'grapes', 'pineapple', 'appple', 'mango', 'orange', 'lemon']\n",
            "['appple', 'dark choco', 'grapes', 'lemon', 'mango', 'orange', 'pineapple']\n",
            "['appple', 'dark choco', 'grapes', 'mango', 'orange', 'pineapple']\n",
            "6\n"
          ]
        }
      ],
      "source": [
        "# index: 0         1        2          3           4        \n",
        "fruit=['orange', 'mango', 'appple', 'pineapple', 'grapes']\n",
        "print(fruit[4], fruit[0])\n",
        "print(fruit[3][4])\n",
        "print(fruit[0:4])\n",
        "print(fruit[-1])\n",
        "print(fruit[-2])\n",
        "print(fruit[-3])\n",
        "print(fruit[:4])\n",
        "fruit[2:]\n",
        "fruit.append(\"dark choco\")\n",
        "print(fruit)\n",
        "fruit.insert(0, 'lemon')\n",
        "print(fruit)\n",
        "fruit.reverse()\n",
        "print(fruit)\n",
        "fruit.sort()\n",
        "print(fruit)\n",
        "fruit.pop(3)\n",
        "print(fruit)\n",
        "print(len(fruit))"
      ]
    },
    {
      "cell_type": "code",
      "source": [
        "N=[456, 356, 756]\n",
        "w=[0, 56, 766, [32, 45, 38]]\n",
        "N[:3]+w[:4]\n",
        "N[0]+N[1]+N[2]"
      ],
      "metadata": {
        "colab": {
          "base_uri": "https://localhost:8080/"
        },
        "id": "EwVEKQHw9UWk",
        "outputId": "a9d42b76-5ae3-4e40-d9cd-675bb9c43f50"
      },
      "execution_count": 28,
      "outputs": [
        {
          "output_type": "execute_result",
          "data": {
            "text/plain": [
              "1568"
            ]
          },
          "metadata": {},
          "execution_count": 28
        }
      ]
    },
    {
      "cell_type": "code",
      "source": [
        ""
      ],
      "metadata": {
        "id": "uSb9EpzjD34T"
      },
      "execution_count": null,
      "outputs": []
    }
  ]
}