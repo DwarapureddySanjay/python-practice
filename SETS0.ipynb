{
  "nbformat": 4,
  "nbformat_minor": 0,
  "metadata": {
    "colab": {
      "name": "SETS0.ipynb",
      "provenance": [],
      "authorship_tag": "ABX9TyNRDC9qi7up560lSWuxP7qi",
      "include_colab_link": true
    },
    "kernelspec": {
      "name": "python3",
      "display_name": "Python 3"
    },
    "language_info": {
      "name": "python"
    }
  },
  "cells": [
    {
      "cell_type": "markdown",
      "metadata": {
        "id": "view-in-github",
        "colab_type": "text"
      },
      "source": [
        "<a href=\"https://colab.research.google.com/github/DwarapureddySanjay/python-practice/blob/main/SETS0.ipynb\" target=\"_parent\"><img src=\"https://colab.research.google.com/assets/colab-badge.svg\" alt=\"Open In Colab\"/></a>"
      ]
    },
    {
      "cell_type": "code",
      "execution_count": 27,
      "metadata": {
        "id": "kjuMy-w6Odd9",
        "colab": {
          "base_uri": "https://localhost:8080/"
        },
        "outputId": "647230fa-d734-42ff-fd58-a1c4703a91fc"
      },
      "outputs": [
        {
          "output_type": "stream",
          "name": "stdout",
          "text": [
            "{'laxman', 'Krish'}\n",
            "2\n",
            "laxman\n",
            "Krish\n",
            "{False, True}\n",
            "{'sanjay', 'laxman', 'Krish'}\n",
            "{False, True, 'sanjay', 'laxman', 'Krish'}\n",
            "{False, True, 'sanjay', 'laxman', 'Krish'}\n",
            "False\n",
            "{True, 'sanjay', 'laxman', 'Krish'}\n",
            "{False, True, 'sanjay', 'laxman', 'Krish'}\n",
            "set()\n"
          ]
        }
      ],
      "source": [
        "name={'Ram', 'laxman', 'Krish'}\n",
        "name.remove('Ram')\n",
        "print(name)\n",
        "print(len(name))\n",
        "for x in name:\n",
        "     print(x)\n",
        "set = {True, False, False}\n",
        "print(set)\n",
        "name.add('sanjay')\n",
        "print(name)\n",
        "name.update(set)\n",
        "print(name)\n",
        "name.discard('lam')\n",
        "print(name)\n",
        "y=name.pop()\n",
        "print(y)\n",
        "print(name)\n",
        "x=name.union(set)\n",
        "print(x)\n",
        "name.clear()\n",
        "print(name)\n",
        "del name"
      ]
    }
  ]
}